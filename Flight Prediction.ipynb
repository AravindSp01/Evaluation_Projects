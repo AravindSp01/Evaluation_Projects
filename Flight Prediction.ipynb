{
 "cells": [
  {
   "cell_type": "code",
   "execution_count": 107,
   "id": "structural-contribution",
   "metadata": {},
   "outputs": [],
   "source": [
    "import numpy as np\n",
    "import pandas as pd\n",
    "import seaborn as sb\n",
    "import matplotlib.pyplot as plt\n",
    "\n",
    "import warnings\n",
    "warnings.filterwarnings('ignore')"
   ]
  },
  {
   "cell_type": "code",
   "execution_count": 108,
   "id": "laughing-timeline",
   "metadata": {},
   "outputs": [
    {
     "data": {
      "text/html": [
       "<div>\n",
       "<style scoped>\n",
       "    .dataframe tbody tr th:only-of-type {\n",
       "        vertical-align: middle;\n",
       "    }\n",
       "\n",
       "    .dataframe tbody tr th {\n",
       "        vertical-align: top;\n",
       "    }\n",
       "\n",
       "    .dataframe thead th {\n",
       "        text-align: right;\n",
       "    }\n",
       "</style>\n",
       "<table border=\"1\" class=\"dataframe\">\n",
       "  <thead>\n",
       "    <tr style=\"text-align: right;\">\n",
       "      <th></th>\n",
       "      <th>Airline</th>\n",
       "      <th>Date_of_Journey</th>\n",
       "      <th>Source</th>\n",
       "      <th>Destination</th>\n",
       "      <th>Route</th>\n",
       "      <th>Dep_Time</th>\n",
       "      <th>Arrival_Time</th>\n",
       "      <th>Duration</th>\n",
       "      <th>Total_Stops</th>\n",
       "      <th>Additional_Info</th>\n",
       "      <th>Price</th>\n",
       "    </tr>\n",
       "  </thead>\n",
       "  <tbody>\n",
       "    <tr>\n",
       "      <th>0</th>\n",
       "      <td>IndiGo</td>\n",
       "      <td>24/03/2019</td>\n",
       "      <td>Banglore</td>\n",
       "      <td>New Delhi</td>\n",
       "      <td>BLR → DEL</td>\n",
       "      <td>22:20</td>\n",
       "      <td>01:10 22 Mar</td>\n",
       "      <td>2h 50m</td>\n",
       "      <td>non-stop</td>\n",
       "      <td>No info</td>\n",
       "      <td>3897</td>\n",
       "    </tr>\n",
       "    <tr>\n",
       "      <th>1</th>\n",
       "      <td>Air India</td>\n",
       "      <td>1/05/2019</td>\n",
       "      <td>Kolkata</td>\n",
       "      <td>Banglore</td>\n",
       "      <td>CCU → IXR → BBI → BLR</td>\n",
       "      <td>05:50</td>\n",
       "      <td>13:15</td>\n",
       "      <td>7h 25m</td>\n",
       "      <td>2 stops</td>\n",
       "      <td>No info</td>\n",
       "      <td>7662</td>\n",
       "    </tr>\n",
       "    <tr>\n",
       "      <th>2</th>\n",
       "      <td>Jet Airways</td>\n",
       "      <td>9/06/2019</td>\n",
       "      <td>Delhi</td>\n",
       "      <td>Cochin</td>\n",
       "      <td>DEL → LKO → BOM → COK</td>\n",
       "      <td>09:25</td>\n",
       "      <td>04:25 10 Jun</td>\n",
       "      <td>19h</td>\n",
       "      <td>2 stops</td>\n",
       "      <td>No info</td>\n",
       "      <td>13882</td>\n",
       "    </tr>\n",
       "    <tr>\n",
       "      <th>3</th>\n",
       "      <td>IndiGo</td>\n",
       "      <td>12/05/2019</td>\n",
       "      <td>Kolkata</td>\n",
       "      <td>Banglore</td>\n",
       "      <td>CCU → NAG → BLR</td>\n",
       "      <td>18:05</td>\n",
       "      <td>23:30</td>\n",
       "      <td>5h 25m</td>\n",
       "      <td>1 stop</td>\n",
       "      <td>No info</td>\n",
       "      <td>6218</td>\n",
       "    </tr>\n",
       "    <tr>\n",
       "      <th>4</th>\n",
       "      <td>IndiGo</td>\n",
       "      <td>01/03/2019</td>\n",
       "      <td>Banglore</td>\n",
       "      <td>New Delhi</td>\n",
       "      <td>BLR → NAG → DEL</td>\n",
       "      <td>16:50</td>\n",
       "      <td>21:35</td>\n",
       "      <td>4h 45m</td>\n",
       "      <td>1 stop</td>\n",
       "      <td>No info</td>\n",
       "      <td>13302</td>\n",
       "    </tr>\n",
       "  </tbody>\n",
       "</table>\n",
       "</div>"
      ],
      "text/plain": [
       "       Airline Date_of_Journey    Source Destination                  Route  \\\n",
       "0       IndiGo      24/03/2019  Banglore   New Delhi              BLR → DEL   \n",
       "1    Air India       1/05/2019   Kolkata    Banglore  CCU → IXR → BBI → BLR   \n",
       "2  Jet Airways       9/06/2019     Delhi      Cochin  DEL → LKO → BOM → COK   \n",
       "3       IndiGo      12/05/2019   Kolkata    Banglore        CCU → NAG → BLR   \n",
       "4       IndiGo      01/03/2019  Banglore   New Delhi        BLR → NAG → DEL   \n",
       "\n",
       "  Dep_Time  Arrival_Time Duration Total_Stops Additional_Info  Price  \n",
       "0    22:20  01:10 22 Mar   2h 50m    non-stop         No info   3897  \n",
       "1    05:50         13:15   7h 25m     2 stops         No info   7662  \n",
       "2    09:25  04:25 10 Jun      19h     2 stops         No info  13882  \n",
       "3    18:05         23:30   5h 25m      1 stop         No info   6218  \n",
       "4    16:50         21:35   4h 45m      1 stop         No info  13302  "
      ]
     },
     "execution_count": 108,
     "metadata": {},
     "output_type": "execute_result"
    }
   ],
   "source": [
    "df = pd.read_excel('Flight Ticket Price Prediction Train.xlsx')\n",
    "df.head()"
   ]
  },
  {
   "cell_type": "code",
   "execution_count": 109,
   "id": "certified-highland",
   "metadata": {},
   "outputs": [
    {
     "data": {
      "text/plain": [
       "(10683, 11)"
      ]
     },
     "execution_count": 109,
     "metadata": {},
     "output_type": "execute_result"
    }
   ],
   "source": [
    "df.shape"
   ]
  },
  {
   "cell_type": "code",
   "execution_count": 110,
   "id": "affecting-contractor",
   "metadata": {},
   "outputs": [
    {
     "data": {
      "text/plain": [
       "Airline            object\n",
       "Date_of_Journey    object\n",
       "Source             object\n",
       "Destination        object\n",
       "Route              object\n",
       "Dep_Time           object\n",
       "Arrival_Time       object\n",
       "Duration           object\n",
       "Total_Stops        object\n",
       "Additional_Info    object\n",
       "Price               int64\n",
       "dtype: object"
      ]
     },
     "execution_count": 110,
     "metadata": {},
     "output_type": "execute_result"
    }
   ],
   "source": [
    "df.dtypes"
   ]
  },
  {
   "cell_type": "code",
   "execution_count": 111,
   "id": "fantastic-stylus",
   "metadata": {},
   "outputs": [
    {
     "name": "stdout",
     "output_type": "stream",
     "text": [
      "Total number of unique values in  Airline  =  12\n",
      "Total number of unique values in  Date_of_Journey  =  44\n",
      "Total number of unique values in  Source  =  5\n",
      "Total number of unique values in  Destination  =  6\n",
      "Total number of unique values in  Route  =  128\n",
      "Total number of unique values in  Dep_Time  =  222\n",
      "Total number of unique values in  Arrival_Time  =  1343\n",
      "Total number of unique values in  Duration  =  368\n",
      "Total number of unique values in  Total_Stops  =  5\n",
      "Total number of unique values in  Additional_Info  =  10\n",
      "Total number of unique values in  Price  =  1870\n"
     ]
    }
   ],
   "source": [
    "for i in df.columns: \n",
    "    print('Total number of unique values in ', i, ' = ', df[i].nunique())"
   ]
  },
  {
   "cell_type": "markdown",
   "id": "abstract-encounter",
   "metadata": {},
   "source": [
    "    We can see that all the values in the dataset are categorical. "
   ]
  },
  {
   "cell_type": "code",
   "execution_count": 112,
   "id": "academic-portfolio",
   "metadata": {
    "scrolled": true
   },
   "outputs": [
    {
     "data": {
      "text/plain": [
       "Airline            0\n",
       "Date_of_Journey    0\n",
       "Source             0\n",
       "Destination        0\n",
       "Route              1\n",
       "Dep_Time           0\n",
       "Arrival_Time       0\n",
       "Duration           0\n",
       "Total_Stops        1\n",
       "Additional_Info    0\n",
       "Price              0\n",
       "dtype: int64"
      ]
     },
     "execution_count": 112,
     "metadata": {},
     "output_type": "execute_result"
    }
   ],
   "source": [
    "df.isnull().sum()"
   ]
  },
  {
   "cell_type": "markdown",
   "id": "advisory-mercury",
   "metadata": {},
   "source": [
    "    Since we only have 1 NaN values in the dataset with over 10k values, we can remove that one. "
   ]
  },
  {
   "cell_type": "markdown",
   "id": "grand-diagnosis",
   "metadata": {},
   "source": [
    "### Removing NaN values"
   ]
  },
  {
   "cell_type": "code",
   "execution_count": 113,
   "id": "ranging-certification",
   "metadata": {},
   "outputs": [],
   "source": [
    "df.dropna(axis = 0, inplace = True)"
   ]
  },
  {
   "cell_type": "markdown",
   "id": "ordered-detail",
   "metadata": {},
   "source": [
    "### Dealing with the date"
   ]
  },
  {
   "cell_type": "code",
   "execution_count": 114,
   "id": "efficient-yukon",
   "metadata": {},
   "outputs": [],
   "source": [
    "df['year'] = pd.DatetimeIndex(df['Date_of_Journey']).year\n",
    "df['month'] = pd.DatetimeIndex(df['Date_of_Journey']).month\n",
    "df['Day'] = pd.DatetimeIndex(df['Date_of_Journey']).day"
   ]
  },
  {
   "cell_type": "code",
   "execution_count": 115,
   "id": "northern-steam",
   "metadata": {},
   "outputs": [],
   "source": [
    "#Removing the date column\n",
    "df=df.drop(columns='Date_of_Journey')"
   ]
  },
  {
   "cell_type": "markdown",
   "id": "robust-portable",
   "metadata": {},
   "source": [
    "### Dealing with the stops"
   ]
  },
  {
   "cell_type": "markdown",
   "id": "norwegian-event",
   "metadata": {},
   "source": [
    "    We can see that the stops column has 'stops' mentioned in almmost every columns which can be removed. \n",
    "    \n",
    "    Non-stop values can be kept as-is."
   ]
  },
  {
   "cell_type": "code",
   "execution_count": 116,
   "id": "suitable-indication",
   "metadata": {},
   "outputs": [],
   "source": [
    "df['Total_Stops'] = df['Total_Stops'].str.split().str[0]"
   ]
  },
  {
   "cell_type": "code",
   "execution_count": 117,
   "id": "stretch-canon",
   "metadata": {},
   "outputs": [
    {
     "data": {
      "text/html": [
       "<div>\n",
       "<style scoped>\n",
       "    .dataframe tbody tr th:only-of-type {\n",
       "        vertical-align: middle;\n",
       "    }\n",
       "\n",
       "    .dataframe tbody tr th {\n",
       "        vertical-align: top;\n",
       "    }\n",
       "\n",
       "    .dataframe thead th {\n",
       "        text-align: right;\n",
       "    }\n",
       "</style>\n",
       "<table border=\"1\" class=\"dataframe\">\n",
       "  <thead>\n",
       "    <tr style=\"text-align: right;\">\n",
       "      <th></th>\n",
       "      <th>Airline</th>\n",
       "      <th>Source</th>\n",
       "      <th>Destination</th>\n",
       "      <th>Route</th>\n",
       "      <th>Dep_Time</th>\n",
       "      <th>Arrival_Time</th>\n",
       "      <th>Duration</th>\n",
       "      <th>Total_Stops</th>\n",
       "      <th>Additional_Info</th>\n",
       "      <th>Price</th>\n",
       "      <th>year</th>\n",
       "      <th>month</th>\n",
       "      <th>Day</th>\n",
       "    </tr>\n",
       "  </thead>\n",
       "  <tbody>\n",
       "    <tr>\n",
       "      <th>0</th>\n",
       "      <td>IndiGo</td>\n",
       "      <td>Banglore</td>\n",
       "      <td>New Delhi</td>\n",
       "      <td>BLR → DEL</td>\n",
       "      <td>22:20</td>\n",
       "      <td>01:10 22 Mar</td>\n",
       "      <td>2h 50m</td>\n",
       "      <td>non-stop</td>\n",
       "      <td>No info</td>\n",
       "      <td>3897</td>\n",
       "      <td>2019</td>\n",
       "      <td>3</td>\n",
       "      <td>24</td>\n",
       "    </tr>\n",
       "    <tr>\n",
       "      <th>1</th>\n",
       "      <td>Air India</td>\n",
       "      <td>Kolkata</td>\n",
       "      <td>Banglore</td>\n",
       "      <td>CCU → IXR → BBI → BLR</td>\n",
       "      <td>05:50</td>\n",
       "      <td>13:15</td>\n",
       "      <td>7h 25m</td>\n",
       "      <td>2</td>\n",
       "      <td>No info</td>\n",
       "      <td>7662</td>\n",
       "      <td>2019</td>\n",
       "      <td>1</td>\n",
       "      <td>5</td>\n",
       "    </tr>\n",
       "    <tr>\n",
       "      <th>2</th>\n",
       "      <td>Jet Airways</td>\n",
       "      <td>Delhi</td>\n",
       "      <td>Cochin</td>\n",
       "      <td>DEL → LKO → BOM → COK</td>\n",
       "      <td>09:25</td>\n",
       "      <td>04:25 10 Jun</td>\n",
       "      <td>19h</td>\n",
       "      <td>2</td>\n",
       "      <td>No info</td>\n",
       "      <td>13882</td>\n",
       "      <td>2019</td>\n",
       "      <td>9</td>\n",
       "      <td>6</td>\n",
       "    </tr>\n",
       "    <tr>\n",
       "      <th>3</th>\n",
       "      <td>IndiGo</td>\n",
       "      <td>Kolkata</td>\n",
       "      <td>Banglore</td>\n",
       "      <td>CCU → NAG → BLR</td>\n",
       "      <td>18:05</td>\n",
       "      <td>23:30</td>\n",
       "      <td>5h 25m</td>\n",
       "      <td>1</td>\n",
       "      <td>No info</td>\n",
       "      <td>6218</td>\n",
       "      <td>2019</td>\n",
       "      <td>12</td>\n",
       "      <td>5</td>\n",
       "    </tr>\n",
       "    <tr>\n",
       "      <th>4</th>\n",
       "      <td>IndiGo</td>\n",
       "      <td>Banglore</td>\n",
       "      <td>New Delhi</td>\n",
       "      <td>BLR → NAG → DEL</td>\n",
       "      <td>16:50</td>\n",
       "      <td>21:35</td>\n",
       "      <td>4h 45m</td>\n",
       "      <td>1</td>\n",
       "      <td>No info</td>\n",
       "      <td>13302</td>\n",
       "      <td>2019</td>\n",
       "      <td>1</td>\n",
       "      <td>3</td>\n",
       "    </tr>\n",
       "  </tbody>\n",
       "</table>\n",
       "</div>"
      ],
      "text/plain": [
       "       Airline    Source Destination                  Route Dep_Time  \\\n",
       "0       IndiGo  Banglore   New Delhi              BLR → DEL    22:20   \n",
       "1    Air India   Kolkata    Banglore  CCU → IXR → BBI → BLR    05:50   \n",
       "2  Jet Airways     Delhi      Cochin  DEL → LKO → BOM → COK    09:25   \n",
       "3       IndiGo   Kolkata    Banglore        CCU → NAG → BLR    18:05   \n",
       "4       IndiGo  Banglore   New Delhi        BLR → NAG → DEL    16:50   \n",
       "\n",
       "   Arrival_Time Duration Total_Stops Additional_Info  Price  year  month  Day  \n",
       "0  01:10 22 Mar   2h 50m    non-stop         No info   3897  2019      3   24  \n",
       "1         13:15   7h 25m           2         No info   7662  2019      1    5  \n",
       "2  04:25 10 Jun      19h           2         No info  13882  2019      9    6  \n",
       "3         23:30   5h 25m           1         No info   6218  2019     12    5  \n",
       "4         21:35   4h 45m           1         No info  13302  2019      1    3  "
      ]
     },
     "execution_count": 117,
     "metadata": {},
     "output_type": "execute_result"
    }
   ],
   "source": [
    "df.head()"
   ]
  },
  {
   "cell_type": "code",
   "execution_count": 118,
   "id": "fossil-rates",
   "metadata": {},
   "outputs": [
    {
     "name": "stdout",
     "output_type": "stream",
     "text": [
      "----- Airline-----\n",
      "Jet Airways                          3849\n",
      "IndiGo                               2053\n",
      "Air India                            1751\n",
      "Multiple carriers                    1196\n",
      "SpiceJet                              818\n",
      "Vistara                               479\n",
      "Air Asia                              319\n",
      "GoAir                                 194\n",
      "Multiple carriers Premium economy      13\n",
      "Jet Airways Business                    6\n",
      "Vistara Premium economy                 3\n",
      "Trujet                                  1\n",
      "Name: Airline, dtype: int64\n",
      "\n",
      "\n",
      "----- Source-----\n",
      "Delhi       4536\n",
      "Kolkata     2871\n",
      "Banglore    2197\n",
      "Mumbai       697\n",
      "Chennai      381\n",
      "Name: Source, dtype: int64\n",
      "\n",
      "\n",
      "----- Destination-----\n",
      "Cochin       4536\n",
      "Banglore     2871\n",
      "Delhi        1265\n",
      "New Delhi     932\n",
      "Hyderabad     697\n",
      "Kolkata       381\n",
      "Name: Destination, dtype: int64\n",
      "\n",
      "\n",
      "----- Route-----\n",
      "DEL → BOM → COK                2376\n",
      "BLR → DEL                      1552\n",
      "CCU → BOM → BLR                 979\n",
      "CCU → BLR                       724\n",
      "BOM → HYD                       621\n",
      "                               ... \n",
      "BLR → HBX → BOM → NAG → DEL       1\n",
      "BOM → DED → DEL → HYD             1\n",
      "CCU → IXA → BLR                   1\n",
      "BOM → BBI → HYD                   1\n",
      "BLR → HBX → BOM → AMD → DEL       1\n",
      "Name: Route, Length: 128, dtype: int64\n",
      "\n",
      "\n",
      "----- Dep_Time-----\n",
      "18:55    233\n",
      "17:00    227\n",
      "07:05    205\n",
      "10:00    203\n",
      "07:10    202\n",
      "        ... \n",
      "21:35      1\n",
      "21:40      1\n",
      "04:15      1\n",
      "22:25      1\n",
      "16:25      1\n",
      "Name: Dep_Time, Length: 222, dtype: int64\n",
      "\n",
      "\n",
      "----- Arrival_Time-----\n",
      "19:00           423\n",
      "21:00           360\n",
      "19:15           333\n",
      "16:10           154\n",
      "12:35           122\n",
      "               ... \n",
      "01:00 19 May      1\n",
      "06:50 28 May      1\n",
      "01:10 16 Mar      1\n",
      "19:50 10 Jun      1\n",
      "11:10 16 Mar      1\n",
      "Name: Arrival_Time, Length: 1343, dtype: int64\n",
      "\n",
      "\n",
      "----- Duration-----\n",
      "2h 50m     550\n",
      "1h 30m     386\n",
      "2h 45m     337\n",
      "2h 55m     337\n",
      "2h 35m     329\n",
      "          ... \n",
      "35h 35m      1\n",
      "42h 45m      1\n",
      "35h 20m      1\n",
      "36h 25m      1\n",
      "31h 30m      1\n",
      "Name: Duration, Length: 368, dtype: int64\n",
      "\n",
      "\n",
      "----- Total_Stops-----\n",
      "1           5625\n",
      "non-stop    3491\n",
      "2           1520\n",
      "3             45\n",
      "4              1\n",
      "Name: Total_Stops, dtype: int64\n",
      "\n",
      "\n",
      "----- Additional_Info-----\n",
      "No info                         8344\n",
      "In-flight meal not included     1982\n",
      "No check-in baggage included     320\n",
      "1 Long layover                    19\n",
      "Change airports                    7\n",
      "Business class                     4\n",
      "No Info                            3\n",
      "2 Long layover                     1\n",
      "Red-eye flight                     1\n",
      "1 Short layover                    1\n",
      "Name: Additional_Info, dtype: int64\n",
      "\n",
      "\n",
      "----- Price-----\n",
      "10262    258\n",
      "10844    212\n",
      "7229     162\n",
      "4804     160\n",
      "4823     131\n",
      "        ... \n",
      "16946      1\n",
      "10783      1\n",
      "14861      1\n",
      "10759      1\n",
      "4098       1\n",
      "Name: Price, Length: 1870, dtype: int64\n",
      "\n",
      "\n",
      "----- year-----\n",
      "2019    10682\n",
      "Name: year, dtype: int64\n",
      "\n",
      "\n",
      "----- month-----\n",
      "6     2535\n",
      "3     2211\n",
      "5     2074\n",
      "9     1406\n",
      "1     1075\n",
      "12     957\n",
      "4      424\n",
      "Name: month, dtype: int64\n",
      "\n",
      "\n",
      "----- Day-----\n",
      "6     2166\n",
      "5     1391\n",
      "3     1361\n",
      "27    1130\n",
      "21    1111\n",
      "24    1052\n",
      "15     984\n",
      "18     832\n",
      "4      655\n",
      "Name: Day, dtype: int64\n",
      "\n",
      "\n"
     ]
    }
   ],
   "source": [
    "#To find the count of each unique variables in all the columns in a df\n",
    "for i in range(len(df.columns)):\n",
    "    print(\"----- {}-----\".format(df.columns[i]))\n",
    "    print(df[df.columns[i]].value_counts())\n",
    "    print('\\n')\n",
    "    "
   ]
  },
  {
   "cell_type": "markdown",
   "id": "otherwise-ready",
   "metadata": {},
   "source": [
    "Observation: \n",
    "    \n",
    "    The highest number of flights in the list are from Jet Airways. \n",
    "    \n",
    "    The highest number of flight are to or from Delhi. \n",
    "    \n",
    "    The highest number of flight headed to is to Cochin. \n",
    "    \n",
    "    DEL - BOM - COK seems to be the best chosen route. \n",
    "    \n",
    "    The highest number of flights have a duration of 2 hr 50 mins. \n",
    "    \n",
    "    Since the highest number of columns in 'Additional Data' shows no data, we info remove that column. "
   ]
  },
  {
   "cell_type": "code",
   "execution_count": 119,
   "id": "three-speed",
   "metadata": {},
   "outputs": [],
   "source": [
    "df=df.drop(columns='Additional_Info')"
   ]
  },
  {
   "cell_type": "markdown",
   "id": "sharing-tampa",
   "metadata": {},
   "source": [
    "#Replacing Non-Stop in the dataset"
   ]
  },
  {
   "cell_type": "code",
   "execution_count": 120,
   "id": "structural-ottawa",
   "metadata": {},
   "outputs": [],
   "source": [
    "df['Total_Stops'] = df['Total_Stops'].replace(['non-stop'],0)"
   ]
  },
  {
   "cell_type": "code",
   "execution_count": 121,
   "id": "million-violin",
   "metadata": {},
   "outputs": [
    {
     "data": {
      "text/html": [
       "<div>\n",
       "<style scoped>\n",
       "    .dataframe tbody tr th:only-of-type {\n",
       "        vertical-align: middle;\n",
       "    }\n",
       "\n",
       "    .dataframe tbody tr th {\n",
       "        vertical-align: top;\n",
       "    }\n",
       "\n",
       "    .dataframe thead th {\n",
       "        text-align: right;\n",
       "    }\n",
       "</style>\n",
       "<table border=\"1\" class=\"dataframe\">\n",
       "  <thead>\n",
       "    <tr style=\"text-align: right;\">\n",
       "      <th></th>\n",
       "      <th>Airline</th>\n",
       "      <th>Source</th>\n",
       "      <th>Destination</th>\n",
       "      <th>Route</th>\n",
       "      <th>Dep_Time</th>\n",
       "      <th>Arrival_Time</th>\n",
       "      <th>Duration</th>\n",
       "      <th>Total_Stops</th>\n",
       "      <th>Price</th>\n",
       "      <th>year</th>\n",
       "      <th>month</th>\n",
       "      <th>Day</th>\n",
       "    </tr>\n",
       "  </thead>\n",
       "  <tbody>\n",
       "    <tr>\n",
       "      <th>0</th>\n",
       "      <td>IndiGo</td>\n",
       "      <td>Banglore</td>\n",
       "      <td>New Delhi</td>\n",
       "      <td>BLR → DEL</td>\n",
       "      <td>22:20</td>\n",
       "      <td>01:10 22 Mar</td>\n",
       "      <td>2h 50m</td>\n",
       "      <td>0</td>\n",
       "      <td>3897</td>\n",
       "      <td>2019</td>\n",
       "      <td>3</td>\n",
       "      <td>24</td>\n",
       "    </tr>\n",
       "    <tr>\n",
       "      <th>1</th>\n",
       "      <td>Air India</td>\n",
       "      <td>Kolkata</td>\n",
       "      <td>Banglore</td>\n",
       "      <td>CCU → IXR → BBI → BLR</td>\n",
       "      <td>05:50</td>\n",
       "      <td>13:15</td>\n",
       "      <td>7h 25m</td>\n",
       "      <td>2</td>\n",
       "      <td>7662</td>\n",
       "      <td>2019</td>\n",
       "      <td>1</td>\n",
       "      <td>5</td>\n",
       "    </tr>\n",
       "    <tr>\n",
       "      <th>2</th>\n",
       "      <td>Jet Airways</td>\n",
       "      <td>Delhi</td>\n",
       "      <td>Cochin</td>\n",
       "      <td>DEL → LKO → BOM → COK</td>\n",
       "      <td>09:25</td>\n",
       "      <td>04:25 10 Jun</td>\n",
       "      <td>19h</td>\n",
       "      <td>2</td>\n",
       "      <td>13882</td>\n",
       "      <td>2019</td>\n",
       "      <td>9</td>\n",
       "      <td>6</td>\n",
       "    </tr>\n",
       "    <tr>\n",
       "      <th>3</th>\n",
       "      <td>IndiGo</td>\n",
       "      <td>Kolkata</td>\n",
       "      <td>Banglore</td>\n",
       "      <td>CCU → NAG → BLR</td>\n",
       "      <td>18:05</td>\n",
       "      <td>23:30</td>\n",
       "      <td>5h 25m</td>\n",
       "      <td>1</td>\n",
       "      <td>6218</td>\n",
       "      <td>2019</td>\n",
       "      <td>12</td>\n",
       "      <td>5</td>\n",
       "    </tr>\n",
       "    <tr>\n",
       "      <th>4</th>\n",
       "      <td>IndiGo</td>\n",
       "      <td>Banglore</td>\n",
       "      <td>New Delhi</td>\n",
       "      <td>BLR → NAG → DEL</td>\n",
       "      <td>16:50</td>\n",
       "      <td>21:35</td>\n",
       "      <td>4h 45m</td>\n",
       "      <td>1</td>\n",
       "      <td>13302</td>\n",
       "      <td>2019</td>\n",
       "      <td>1</td>\n",
       "      <td>3</td>\n",
       "    </tr>\n",
       "  </tbody>\n",
       "</table>\n",
       "</div>"
      ],
      "text/plain": [
       "       Airline    Source Destination                  Route Dep_Time  \\\n",
       "0       IndiGo  Banglore   New Delhi              BLR → DEL    22:20   \n",
       "1    Air India   Kolkata    Banglore  CCU → IXR → BBI → BLR    05:50   \n",
       "2  Jet Airways     Delhi      Cochin  DEL → LKO → BOM → COK    09:25   \n",
       "3       IndiGo   Kolkata    Banglore        CCU → NAG → BLR    18:05   \n",
       "4       IndiGo  Banglore   New Delhi        BLR → NAG → DEL    16:50   \n",
       "\n",
       "   Arrival_Time Duration Total_Stops  Price  year  month  Day  \n",
       "0  01:10 22 Mar   2h 50m           0   3897  2019      3   24  \n",
       "1         13:15   7h 25m           2   7662  2019      1    5  \n",
       "2  04:25 10 Jun      19h           2  13882  2019      9    6  \n",
       "3         23:30   5h 25m           1   6218  2019     12    5  \n",
       "4         21:35   4h 45m           1  13302  2019      1    3  "
      ]
     },
     "execution_count": 121,
     "metadata": {},
     "output_type": "execute_result"
    }
   ],
   "source": [
    "df.head()"
   ]
  },
  {
   "cell_type": "markdown",
   "id": "fifty-quilt",
   "metadata": {},
   "source": [
    "### Dealing with time columns"
   ]
  },
  {
   "cell_type": "code",
   "execution_count": 122,
   "id": "structural-metropolitan",
   "metadata": {},
   "outputs": [],
   "source": [
    "df[\"Departure hour\"]= pd.to_datetime(df.Dep_Time).dt.hour\n",
    "df[\"Departure minute\"]= pd.to_datetime(df.Dep_Time).dt.minute\n",
    "df[\"Arrival hour\"]= pd.to_datetime(df.Arrival_Time).dt.hour\n",
    "df[\"Arrival minute\"]= pd.to_datetime(df.Arrival_Time).dt.minute\n",
    "df=df.drop(columns=\"Dep_Time\")\n",
    "df=df.drop(columns=\"Arrival_Time\")"
   ]
  },
  {
   "cell_type": "code",
   "execution_count": 123,
   "id": "about-kinase",
   "metadata": {},
   "outputs": [
    {
     "data": {
      "text/plain": [
       "2019    10682\n",
       "Name: year, dtype: int64"
      ]
     },
     "execution_count": 123,
     "metadata": {},
     "output_type": "execute_result"
    }
   ],
   "source": [
    "df['year'].value_counts()"
   ]
  },
  {
   "cell_type": "code",
   "execution_count": 124,
   "id": "subsequent-nutrition",
   "metadata": {},
   "outputs": [],
   "source": [
    "#Now the year column is redundant as the only value in it is 2019. Hence we can remove that column. \n",
    "df=df.drop(columns='year')"
   ]
  },
  {
   "cell_type": "code",
   "execution_count": 125,
   "id": "joined-beverage",
   "metadata": {},
   "outputs": [],
   "source": [
    "#Creating a list called Duration. "
   ]
  },
  {
   "cell_type": "code",
   "execution_count": 126,
   "id": "necessary-hopkins",
   "metadata": {},
   "outputs": [],
   "source": [
    "duration = list(df['Duration'])"
   ]
  },
  {
   "cell_type": "code",
   "execution_count": 127,
   "id": "brown-tragedy",
   "metadata": {},
   "outputs": [
    {
     "data": {
      "text/plain": [
       "['2h 50m',\n",
       " '7h 25m',\n",
       " '19h',\n",
       " '5h 25m',\n",
       " '4h 45m',\n",
       " '2h 25m',\n",
       " '15h 30m',\n",
       " '21h 5m',\n",
       " '25h 30m',\n",
       " '7h 50m',\n",
       " '13h 15m',\n",
       " '2h 35m',\n",
       " '2h 15m',\n",
       " '12h 10m',\n",
       " '2h 35m',\n",
       " '26h 35m',\n",
       " '4h 30m',\n",
       " '22h 35m',\n",
       " '23h',\n",
       " '20h 35m',\n",
       " '5h 10m',\n",
       " '15h 20m',\n",
       " '2h 50m',\n",
       " '2h 55m',\n",
       " '13h 20m',\n",
       " '15h 10m',\n",
       " '5h 45m',\n",
       " '5h 55m',\n",
       " '2h 50m',\n",
       " '2h 15m',\n",
       " '2h 15m',\n",
       " '13h 25m',\n",
       " '2h 50m',\n",
       " '22h',\n",
       " '5h 30m',\n",
       " '10h 25m',\n",
       " '5h 15m',\n",
       " '2h 30m',\n",
       " '6h 15m',\n",
       " '11h 55m',\n",
       " '11h 5m',\n",
       " '8h 30m',\n",
       " '22h 5m',\n",
       " '2h 45m',\n",
       " '12h',\n",
       " '2h 50m',\n",
       " '2h 50m',\n",
       " '2h 15m',\n",
       " '16h 5m',\n",
       " '19h 55m',\n",
       " '3h 15m',\n",
       " '25h 20m',\n",
       " '2h 50m',\n",
       " '3h',\n",
       " '2h 50m',\n",
       " '16h 15m',\n",
       " '15h 5m',\n",
       " '2h 15m',\n",
       " '6h 30m',\n",
       " '25h 5m',\n",
       " '12h 25m',\n",
       " '27h 20m',\n",
       " '10h 15m',\n",
       " '10h 30m',\n",
       " '2h 15m',\n",
       " '10h 25m',\n",
       " '2h 50m',\n",
       " '1h 30m',\n",
       " '13h 20m',\n",
       " '2h 15m',\n",
       " '1h 25m',\n",
       " '26h 30m',\n",
       " '7h 20m',\n",
       " '13h 30m',\n",
       " '5h',\n",
       " '2h 45m',\n",
       " '2h 50m',\n",
       " '1h 30m',\n",
       " '19h 5m',\n",
       " '2h 15m',\n",
       " '14h 50m',\n",
       " '2h 40m',\n",
       " '22h 10m',\n",
       " '9h 35m',\n",
       " '10h',\n",
       " '21h 20m',\n",
       " '5h 25m',\n",
       " '18h 45m',\n",
       " '12h 20m',\n",
       " '18h',\n",
       " '9h 15m',\n",
       " '11h 5m',\n",
       " '17h 30m',\n",
       " '13h 20m',\n",
       " '2h 35m',\n",
       " '2h 25m',\n",
       " '2h 40m',\n",
       " '3h',\n",
       " '1h 25m',\n",
       " '16h 35m',\n",
       " '12h 20m',\n",
       " '12h 15m',\n",
       " '7h 30m',\n",
       " '24h',\n",
       " '2h 45m',\n",
       " '8h 55m',\n",
       " '7h 10m',\n",
       " '14h 30m',\n",
       " '30h 20m',\n",
       " '19h 55m',\n",
       " '15h',\n",
       " '2h 55m',\n",
       " '12h 45m',\n",
       " '10h 10m',\n",
       " '5h 55m',\n",
       " '15h 25m',\n",
       " '16h 5m',\n",
       " '10h 10m',\n",
       " '2h 40m',\n",
       " '11h 55m',\n",
       " '2h 40m',\n",
       " '1h 25m',\n",
       " '14h 5m',\n",
       " '20h 15m',\n",
       " '2h 25m',\n",
       " '23h 10m',\n",
       " '18h 10m',\n",
       " '16h',\n",
       " '2h 50m',\n",
       " '2h 20m',\n",
       " '8h',\n",
       " '16h 55m',\n",
       " '3h 10m',\n",
       " '2h 45m',\n",
       " '14h',\n",
       " '23h 50m',\n",
       " '21h 40m',\n",
       " '21h 15m',\n",
       " '2h 45m',\n",
       " '10h 50m',\n",
       " '8h',\n",
       " '8h 15m',\n",
       " '5h 25m',\n",
       " '8h 35m',\n",
       " '11h 50m',\n",
       " '27h 35m',\n",
       " '8h 25m',\n",
       " '20h 55m',\n",
       " '4h 50m',\n",
       " '8h 10m',\n",
       " '2h 20m',\n",
       " '24h 25m',\n",
       " '2h 50m',\n",
       " '12h 20m',\n",
       " '12h 15m',\n",
       " '23h 35m',\n",
       " '16h 35m',\n",
       " '2h 50m',\n",
       " '25h 45m',\n",
       " '26h 10m',\n",
       " '28h 50m',\n",
       " '2h 45m',\n",
       " '25h 15m',\n",
       " '9h 20m',\n",
       " '4h 30m',\n",
       " '15h 25m',\n",
       " '1h 30m',\n",
       " '2h 40m',\n",
       " '9h 10m',\n",
       " '2h 45m',\n",
       " '22h 35m',\n",
       " '3h 5m',\n",
       " '11h 30m',\n",
       " '9h 30m',\n",
       " '12h 10m',\n",
       " '17h 35m',\n",
       " '5h 5m',\n",
       " '25h 50m',\n",
       " '20h',\n",
       " '13h',\n",
       " '18h 25m',\n",
       " '1h 30m',\n",
       " '9h 30m',\n",
       " '16h',\n",
       " '2h 20m',\n",
       " '4h 30m',\n",
       " '5h 45m',\n",
       " '24h 10m',\n",
       " '2h 35m',\n",
       " '2h 45m',\n",
       " '4h 55m',\n",
       " '25h 35m',\n",
       " '6h 20m',\n",
       " '3h 5m',\n",
       " '18h 40m',\n",
       " '2h 15m',\n",
       " '12h 10m',\n",
       " '19h 25m',\n",
       " '2h 50m',\n",
       " '8h 25m',\n",
       " '9h 15m',\n",
       " '2h 50m',\n",
       " '3h 15m',\n",
       " '2h 50m',\n",
       " '12h 20m',\n",
       " '2h 55m',\n",
       " '9h 35m',\n",
       " '2h 35m',\n",
       " '9h 30m',\n",
       " '29h 20m',\n",
       " '2h 55m',\n",
       " '5h 15m',\n",
       " '9h 5m',\n",
       " '10h 45m',\n",
       " '4h 55m',\n",
       " '1h 30m',\n",
       " '11h 40m',\n",
       " '2h 45m',\n",
       " '2h 55m',\n",
       " '10h',\n",
       " '2h 45m',\n",
       " '10h 15m',\n",
       " '1h 25m',\n",
       " '9h 15m',\n",
       " '22h 55m',\n",
       " '28h 50m',\n",
       " '37h 25m',\n",
       " '2h 50m',\n",
       " '1h 30m',\n",
       " '1h 30m',\n",
       " '25h 40m',\n",
       " '2h 35m',\n",
       " '6h 15m',\n",
       " '17h 30m',\n",
       " '5h 45m',\n",
       " '2h 35m',\n",
       " '25h 30m',\n",
       " '13h 55m',\n",
       " '2h 55m',\n",
       " '10h 15m',\n",
       " '8h 40m',\n",
       " '5h 30m',\n",
       " '12h',\n",
       " '2h 15m',\n",
       " '2h 15m',\n",
       " '2h 50m',\n",
       " '9h 10m',\n",
       " '10h 25m',\n",
       " '2h 20m',\n",
       " '4h 30m',\n",
       " '3h 10m',\n",
       " '23h 30m',\n",
       " '27h 20m',\n",
       " '12h 35m',\n",
       " '24h 15m',\n",
       " '1h 20m',\n",
       " '2h 45m',\n",
       " '3h',\n",
       " '11h',\n",
       " '13h 30m',\n",
       " '2h 50m',\n",
       " '2h 55m',\n",
       " '2h 45m',\n",
       " '11h 15m',\n",
       " '14h 35m',\n",
       " '13h 55m',\n",
       " '14h 5m',\n",
       " '15h 5m',\n",
       " '2h 15m',\n",
       " '15h',\n",
       " '12h 55m',\n",
       " '9h',\n",
       " '12h 15m',\n",
       " '7h 40m',\n",
       " '27h 20m',\n",
       " '1h 25m',\n",
       " '1h 20m',\n",
       " '5h 30m',\n",
       " '11h 45m',\n",
       " '3h 15m',\n",
       " '24h 55m',\n",
       " '27h 20m',\n",
       " '2h 55m',\n",
       " '17h 5m',\n",
       " '2h 40m',\n",
       " '8h',\n",
       " '3h',\n",
       " '27h 35m',\n",
       " '7h 30m',\n",
       " '22h 55m',\n",
       " '8h 35m',\n",
       " '29h 55m',\n",
       " '22h 15m',\n",
       " '1h 20m',\n",
       " '2h 40m',\n",
       " '3h',\n",
       " '12h 10m',\n",
       " '2h 35m',\n",
       " '11h 45m',\n",
       " '2h 35m',\n",
       " '1h 30m',\n",
       " '2h 40m',\n",
       " '2h 35m',\n",
       " '22h 55m',\n",
       " '14h 40m',\n",
       " '15h 25m',\n",
       " '7h 15m',\n",
       " '20h 10m',\n",
       " '20h 45m',\n",
       " '2h 30m',\n",
       " '23h 50m',\n",
       " '27h',\n",
       " '5h 30m',\n",
       " '11h 50m',\n",
       " '2h 15m',\n",
       " '24h 30m',\n",
       " '2h 20m',\n",
       " '6h 30m',\n",
       " '20h 25m',\n",
       " '2h 35m',\n",
       " '2h 55m',\n",
       " '5h 35m',\n",
       " '2h 30m',\n",
       " '14h 45m',\n",
       " '12h 20m',\n",
       " '25h 30m',\n",
       " '5h 35m',\n",
       " '11h 45m',\n",
       " '2h 55m',\n",
       " '5h 40m',\n",
       " '4h 5m',\n",
       " '8h',\n",
       " '2h 45m',\n",
       " '2h 40m',\n",
       " '2h 55m',\n",
       " '15h 55m',\n",
       " '23h 10m',\n",
       " '7h 20m',\n",
       " '2h 50m',\n",
       " '7h 30m',\n",
       " '3h',\n",
       " '7h 45m',\n",
       " '25h 20m',\n",
       " '10h 25m',\n",
       " '30h 20m',\n",
       " '2h 35m',\n",
       " '9h',\n",
       " '15h 10m',\n",
       " '28h 20m',\n",
       " '3h',\n",
       " '2h 45m',\n",
       " '4h 55m',\n",
       " '2h 40m',\n",
       " '22h 10m',\n",
       " '10h 10m',\n",
       " '2h 50m',\n",
       " '4h 20m',\n",
       " '11h',\n",
       " '3h',\n",
       " '22h 35m',\n",
       " '3h 5m',\n",
       " '2h 40m',\n",
       " '2h 50m',\n",
       " '21h 5m',\n",
       " '11h 50m',\n",
       " '25h 35m',\n",
       " '15h 25m',\n",
       " '2h 25m',\n",
       " '3h 40m',\n",
       " '2h 55m',\n",
       " '3h 10m',\n",
       " '11h 50m',\n",
       " '2h 50m',\n",
       " '2h 50m',\n",
       " '1h 30m',\n",
       " '11h 30m',\n",
       " '8h 50m',\n",
       " '20h 15m',\n",
       " '20h 10m',\n",
       " '16h 5m',\n",
       " '12h 35m',\n",
       " '17h 5m',\n",
       " '3h',\n",
       " '15h 30m',\n",
       " '11h 30m',\n",
       " '2h 20m',\n",
       " '23h 45m',\n",
       " '1h 30m',\n",
       " '2h 35m',\n",
       " '24h 45m',\n",
       " '21h 35m',\n",
       " '5h 30m',\n",
       " '12h 15m',\n",
       " '8h 5m',\n",
       " '5h',\n",
       " '2h 50m',\n",
       " '6h 25m',\n",
       " '2h 20m',\n",
       " '2h 45m',\n",
       " '12h 45m',\n",
       " '15h 50m',\n",
       " '27h',\n",
       " '26h 25m',\n",
       " '2h 55m',\n",
       " '24h 50m',\n",
       " '8h 40m',\n",
       " '25h 45m',\n",
       " '2h 50m',\n",
       " '6h 15m',\n",
       " '10h 30m',\n",
       " '26h',\n",
       " '17h 5m',\n",
       " '21h 20m',\n",
       " '5h 35m',\n",
       " '2h 50m',\n",
       " '25h 50m',\n",
       " '12h 10m',\n",
       " '17h 5m',\n",
       " '8h 30m',\n",
       " '23h 5m',\n",
       " '9h 20m',\n",
       " '7h 55m',\n",
       " '1h 30m',\n",
       " '2h 50m',\n",
       " '2h 15m',\n",
       " '10h',\n",
       " '2h 35m',\n",
       " '7h 45m',\n",
       " '2h 55m',\n",
       " '26h 20m',\n",
       " '2h 40m',\n",
       " '11h',\n",
       " '19h 25m',\n",
       " '2h 55m',\n",
       " '2h 45m',\n",
       " '23h 15m',\n",
       " '9h',\n",
       " '3h 10m',\n",
       " '6h 25m',\n",
       " '8h 40m',\n",
       " '2h 50m',\n",
       " '12h 20m',\n",
       " '5h 20m',\n",
       " '4h',\n",
       " '9h 45m',\n",
       " '2h 55m',\n",
       " '26h 20m',\n",
       " '2h 15m',\n",
       " '9h 45m',\n",
       " '24h 55m',\n",
       " '11h 55m',\n",
       " '8h 20m',\n",
       " '17h 25m',\n",
       " '2h 50m',\n",
       " '7h 5m',\n",
       " '21h 15m',\n",
       " '5h',\n",
       " '2h 25m',\n",
       " '5h 15m',\n",
       " '15h 10m',\n",
       " '11h 45m',\n",
       " '3h',\n",
       " '4h 55m',\n",
       " '2h 45m',\n",
       " '2h 30m',\n",
       " '9h 45m',\n",
       " '2h 40m',\n",
       " '6h 30m',\n",
       " '5h 30m',\n",
       " '2h 40m',\n",
       " '34h 5m',\n",
       " '15h 25m',\n",
       " '9h 30m',\n",
       " '6h 5m',\n",
       " '2h 40m',\n",
       " '5h 50m',\n",
       " '2h 45m',\n",
       " '27h 20m',\n",
       " '3h',\n",
       " '5h 15m',\n",
       " '16h',\n",
       " '7h',\n",
       " '8h 40m',\n",
       " '9h',\n",
       " '2h 20m',\n",
       " '2h 20m',\n",
       " '6h 20m',\n",
       " '4h 25m',\n",
       " '2h 20m',\n",
       " '11h 5m',\n",
       " '16h 55m',\n",
       " '13h 45m',\n",
       " '25h 45m',\n",
       " '13h 55m',\n",
       " '5h 15m',\n",
       " '19h 15m',\n",
       " '7h 30m',\n",
       " '9h',\n",
       " '24h',\n",
       " '18h 10m',\n",
       " '2h 55m',\n",
       " '1h 30m',\n",
       " '21h 20m',\n",
       " '6h 15m',\n",
       " '14h 30m',\n",
       " '1h 20m',\n",
       " '12h 55m',\n",
       " '2h 25m',\n",
       " '22h 30m',\n",
       " '22h 55m',\n",
       " '5h 25m',\n",
       " '1h 25m',\n",
       " '7h 15m',\n",
       " '12h 20m',\n",
       " '20h 10m',\n",
       " '21h 15m',\n",
       " '2h 15m',\n",
       " '10h 30m',\n",
       " '14h 5m',\n",
       " '2h 50m',\n",
       " '16h 25m',\n",
       " '5h 15m',\n",
       " '13h 50m',\n",
       " '2h 15m',\n",
       " '7h 15m',\n",
       " '27h 5m',\n",
       " '27h 35m',\n",
       " '5h',\n",
       " '2h 50m',\n",
       " '2h 50m',\n",
       " '15h 20m',\n",
       " '5h 20m',\n",
       " '10h 10m',\n",
       " '27h 35m',\n",
       " '9h 35m',\n",
       " '28h 10m',\n",
       " '14h',\n",
       " '2h 35m',\n",
       " '2h 55m',\n",
       " '2h 35m',\n",
       " '4h 40m',\n",
       " '2h 30m',\n",
       " '11h 15m',\n",
       " '7h 55m',\n",
       " '8h 50m',\n",
       " '1h 25m',\n",
       " '15h 40m',\n",
       " '2h 35m',\n",
       " '2h 55m',\n",
       " '13h 25m',\n",
       " '4h 35m',\n",
       " '18h 30m',\n",
       " '2h 15m',\n",
       " '38h 15m',\n",
       " '3h 5m',\n",
       " '25h 50m',\n",
       " '3h 10m',\n",
       " '2h 50m',\n",
       " '11h 30m',\n",
       " '6h 35m',\n",
       " '27h 35m',\n",
       " '2h 35m',\n",
       " '7h 30m',\n",
       " '3h 15m',\n",
       " '9h 35m',\n",
       " '12h 30m',\n",
       " '11h 20m',\n",
       " '3h',\n",
       " '2h 35m',\n",
       " '1h 30m',\n",
       " '26h 10m',\n",
       " '4h 55m',\n",
       " '2h 45m',\n",
       " '8h 40m',\n",
       " '7h 5m',\n",
       " '2h 45m',\n",
       " '24h 50m',\n",
       " '2h 20m',\n",
       " '11h',\n",
       " '9h',\n",
       " '2h 55m',\n",
       " '3h 5m',\n",
       " '2h 35m',\n",
       " '13h',\n",
       " '1h 25m',\n",
       " '7h 35m',\n",
       " '2h 40m',\n",
       " '12h 55m',\n",
       " '29h 20m',\n",
       " '5h',\n",
       " '8h 40m',\n",
       " '3h',\n",
       " '3h',\n",
       " '2h 45m',\n",
       " '12h 10m',\n",
       " '2h 20m',\n",
       " '7h 55m',\n",
       " '29h 35m',\n",
       " '26h 55m',\n",
       " '12h 45m',\n",
       " '7h 35m',\n",
       " '2h 30m',\n",
       " '11h 45m',\n",
       " '23h 40m',\n",
       " '13h 50m',\n",
       " '12h 50m',\n",
       " '9h 50m',\n",
       " '2h 30m',\n",
       " '21h 55m',\n",
       " '26h 10m',\n",
       " '2h 55m',\n",
       " '20h 15m',\n",
       " '20h 10m',\n",
       " '10h 55m',\n",
       " '2h 30m',\n",
       " '21h 10m',\n",
       " '2h 35m',\n",
       " '20h 40m',\n",
       " '2h 50m',\n",
       " '6h 30m',\n",
       " '30h',\n",
       " '13h 10m',\n",
       " '2h 55m',\n",
       " '18h',\n",
       " '8h',\n",
       " '8h 45m',\n",
       " '12h 30m',\n",
       " '13h 20m',\n",
       " '6h 10m',\n",
       " '7h 30m',\n",
       " '19h 15m',\n",
       " '2h 35m',\n",
       " '12h',\n",
       " '3h',\n",
       " '2h 50m',\n",
       " '1h 25m',\n",
       " '23h 5m',\n",
       " '2h 50m',\n",
       " '22h 5m',\n",
       " '2h 15m',\n",
       " '5h 45m',\n",
       " '2h 50m',\n",
       " '9h 30m',\n",
       " '8h 55m',\n",
       " '17h 45m',\n",
       " '2h 50m',\n",
       " '21h 45m',\n",
       " '12h 35m',\n",
       " '1h 30m',\n",
       " '2h 15m',\n",
       " '3h 55m',\n",
       " '2h 45m',\n",
       " '7h 30m',\n",
       " '17h 20m',\n",
       " '1h 30m',\n",
       " '1h 30m',\n",
       " '30h 30m',\n",
       " '5h',\n",
       " '11h 15m',\n",
       " '2h 50m',\n",
       " '19h 5m',\n",
       " '6h 35m',\n",
       " '7h 30m',\n",
       " '2h 15m',\n",
       " '2h 45m',\n",
       " '12h 45m',\n",
       " '2h 50m',\n",
       " '26h 35m',\n",
       " '12h 55m',\n",
       " '1h 30m',\n",
       " '8h 40m',\n",
       " '14h',\n",
       " '23h 30m',\n",
       " '29h 55m',\n",
       " '22h 10m',\n",
       " '4h 50m',\n",
       " '2h 45m',\n",
       " '13h 30m',\n",
       " '13h 20m',\n",
       " '2h 20m',\n",
       " '11h 55m',\n",
       " '5h 10m',\n",
       " '11h 45m',\n",
       " '13h 50m',\n",
       " '3h',\n",
       " '6h 10m',\n",
       " '2h 20m',\n",
       " '10h 45m',\n",
       " '2h 15m',\n",
       " '2h 55m',\n",
       " '1h 30m',\n",
       " '7h 35m',\n",
       " '26h 35m',\n",
       " '4h 45m',\n",
       " '21h 25m',\n",
       " '8h 35m',\n",
       " '8h 30m',\n",
       " '2h 15m',\n",
       " '12h 40m',\n",
       " '8h 25m',\n",
       " '25h 40m',\n",
       " '2h 45m',\n",
       " '29h 20m',\n",
       " '2h 40m',\n",
       " '2h 50m',\n",
       " '2h 20m',\n",
       " '7h 15m',\n",
       " '20h 15m',\n",
       " '11h 45m',\n",
       " '2h 35m',\n",
       " '13h 30m',\n",
       " '1h 30m',\n",
       " '24h 35m',\n",
       " '20h 35m',\n",
       " '2h 50m',\n",
       " '4h 35m',\n",
       " '2h 20m',\n",
       " '11h 45m',\n",
       " '1h 30m',\n",
       " '12h 50m',\n",
       " '24h 30m',\n",
       " '11h 30m',\n",
       " '4h',\n",
       " '11h',\n",
       " '5h 25m',\n",
       " '2h 35m',\n",
       " '5h 10m',\n",
       " '10h 10m',\n",
       " '26h 55m',\n",
       " '7h 15m',\n",
       " '8h 10m',\n",
       " '2h 55m',\n",
       " '5h 15m',\n",
       " '2h 20m',\n",
       " '1h 25m',\n",
       " '4h 50m',\n",
       " '2h 20m',\n",
       " '2h 20m',\n",
       " '13h 15m',\n",
       " '19h 10m',\n",
       " '22h 40m',\n",
       " '14h 50m',\n",
       " '15h 10m',\n",
       " '7h 5m',\n",
       " '1h 25m',\n",
       " '2h 55m',\n",
       " '8h',\n",
       " '2h 45m',\n",
       " '14h 55m',\n",
       " '1h 30m',\n",
       " '16h 15m',\n",
       " '2h 50m',\n",
       " '5h',\n",
       " '22h 15m',\n",
       " '5h 30m',\n",
       " '8h 35m',\n",
       " '15h 25m',\n",
       " '21h',\n",
       " '13h 30m',\n",
       " '2h 50m',\n",
       " '6h 45m',\n",
       " '1h 30m',\n",
       " '8h 40m',\n",
       " '1h 30m',\n",
       " '2h 50m',\n",
       " '2h 35m',\n",
       " '16h 5m',\n",
       " '23h 50m',\n",
       " '27h 5m',\n",
       " '16h 15m',\n",
       " '15h 25m',\n",
       " '2h 50m',\n",
       " '8h 35m',\n",
       " '13h 50m',\n",
       " '2h 40m',\n",
       " '2h 25m',\n",
       " '3h 10m',\n",
       " '2h 55m',\n",
       " '28h 40m',\n",
       " '2h 50m',\n",
       " '2h 35m',\n",
       " '9h 40m',\n",
       " '16h 40m',\n",
       " '6h 20m',\n",
       " '27h',\n",
       " '14h 35m',\n",
       " '12h 10m',\n",
       " '7h 35m',\n",
       " '2h 20m',\n",
       " '19h 10m',\n",
       " '20h',\n",
       " '3h',\n",
       " '5h 10m',\n",
       " '2h 40m',\n",
       " '29h 35m',\n",
       " '4h 55m',\n",
       " '3h',\n",
       " '12h 30m',\n",
       " '12h 35m',\n",
       " '26h 20m',\n",
       " '13h 15m',\n",
       " '2h 50m',\n",
       " '12h 45m',\n",
       " '16h 20m',\n",
       " '2h 40m',\n",
       " '8h 15m',\n",
       " '12h',\n",
       " '2h 50m',\n",
       " '11h',\n",
       " '2h 20m',\n",
       " '13h 50m',\n",
       " '8h 10m',\n",
       " '12h 10m',\n",
       " '2h 40m',\n",
       " '2h 45m',\n",
       " '2h 50m',\n",
       " '24h',\n",
       " '3h',\n",
       " '12h 35m',\n",
       " '25h 50m',\n",
       " '2h 55m',\n",
       " '17h 5m',\n",
       " '29h 20m',\n",
       " '8h 55m',\n",
       " '3h 5m',\n",
       " '9h',\n",
       " '10h 25m',\n",
       " '16h 45m',\n",
       " '2h 45m',\n",
       " '26h 20m',\n",
       " '13h 15m',\n",
       " '10h 30m',\n",
       " '7h 35m',\n",
       " '11h',\n",
       " '2h 50m',\n",
       " '25h 45m',\n",
       " '6h 25m',\n",
       " '1h 25m',\n",
       " '20h 10m',\n",
       " '11h 55m',\n",
       " '2h 50m',\n",
       " '5h',\n",
       " '27h',\n",
       " '2h 50m',\n",
       " '1h 15m',\n",
       " '10h 15m',\n",
       " '24h 50m',\n",
       " '2h 50m',\n",
       " '20h',\n",
       " '5h 30m',\n",
       " '2h 45m',\n",
       " '6h 55m',\n",
       " '2h 45m',\n",
       " '5h 15m',\n",
       " '6h 15m',\n",
       " '2h 50m',\n",
       " '19h 25m',\n",
       " '2h 55m',\n",
       " '11h 25m',\n",
       " '14h 5m',\n",
       " '2h 45m',\n",
       " '3h 15m',\n",
       " '14h 20m',\n",
       " '12h 30m',\n",
       " '5h 20m',\n",
       " '26h 20m',\n",
       " '3h 5m',\n",
       " '1h 30m',\n",
       " '7h 5m',\n",
       " '6h 10m',\n",
       " '8h',\n",
       " '12h 5m',\n",
       " '12h 55m',\n",
       " '9h 35m',\n",
       " '15h 10m',\n",
       " '11h 40m',\n",
       " '2h 55m',\n",
       " '4h 30m',\n",
       " '2h 40m',\n",
       " '2h 30m',\n",
       " '24h 10m',\n",
       " '28h 20m',\n",
       " '1h 25m',\n",
       " '10h 10m',\n",
       " '11h 30m',\n",
       " '2h 50m',\n",
       " '13h 45m',\n",
       " '6h 25m',\n",
       " '12h 55m',\n",
       " '4h 25m',\n",
       " '13h 30m',\n",
       " '24h 5m',\n",
       " '16h 5m',\n",
       " '8h 20m',\n",
       " '3h 40m',\n",
       " '9h 30m',\n",
       " '28h 15m',\n",
       " '13h 20m',\n",
       " '17h 50m',\n",
       " '20h 20m',\n",
       " '28h 5m',\n",
       " '15h 25m',\n",
       " '12h 5m',\n",
       " '10h 20m',\n",
       " '12h 25m',\n",
       " '7h 35m',\n",
       " '2h 50m',\n",
       " '4h 35m',\n",
       " '11h 15m',\n",
       " '2h 35m',\n",
       " '26h',\n",
       " '2h 25m',\n",
       " '2h 35m',\n",
       " '14h 15m',\n",
       " '2h 35m',\n",
       " '22h 5m',\n",
       " '6h 35m',\n",
       " '8h 30m',\n",
       " '18h 45m',\n",
       " '35h 15m',\n",
       " '2h 15m',\n",
       " '2h 30m',\n",
       " '2h 20m',\n",
       " '2h 30m',\n",
       " '7h 35m',\n",
       " '35h 35m',\n",
       " '26h 30m',\n",
       " '11h 30m',\n",
       " '26h 40m',\n",
       " '3h',\n",
       " '1h 30m',\n",
       " '2h 55m',\n",
       " '14h 15m',\n",
       " '16h 55m',\n",
       " '12h 20m',\n",
       " '29h 35m',\n",
       " '20h 20m',\n",
       " '8h 25m',\n",
       " '13h 50m',\n",
       " '10h',\n",
       " '19h 25m',\n",
       " '28h',\n",
       " '2h 50m',\n",
       " '17h 20m',\n",
       " '2h 45m',\n",
       " '2h 55m',\n",
       " '13h 25m',\n",
       " '12h 55m',\n",
       " '9h 45m',\n",
       " '21h 25m',\n",
       " '15h 40m',\n",
       " '2h 20m',\n",
       " '14h 25m',\n",
       " '2h 50m',\n",
       " '6h 35m',\n",
       " '22h 10m',\n",
       " '14h 25m',\n",
       " '2h 30m',\n",
       " '23h 35m',\n",
       " '13h 5m',\n",
       " '1h 30m',\n",
       " '5h 5m',\n",
       " '1h 20m',\n",
       " '22h 55m',\n",
       " '1h 30m',\n",
       " '2h 35m',\n",
       " '37h 20m',\n",
       " '2h 50m',\n",
       " '2h 50m',\n",
       " '36h 10m',\n",
       " '9h 15m',\n",
       " '1h 25m',\n",
       " '5h 5m',\n",
       " '2h 15m',\n",
       " '15h 10m',\n",
       " '25h 55m',\n",
       " '5h 40m',\n",
       " '7h 30m',\n",
       " '17h 45m',\n",
       " '2h 20m',\n",
       " '8h 15m',\n",
       " '3h 40m',\n",
       " '5h 55m',\n",
       " '2h 30m',\n",
       " '17h 30m',\n",
       " '13h 50m',\n",
       " '2h 15m',\n",
       " '21h 35m',\n",
       " '9h 30m',\n",
       " '8h 40m',\n",
       " '10h 25m',\n",
       " '35h 5m',\n",
       " '14h 15m',\n",
       " '3h',\n",
       " '25h 50m',\n",
       " '2h 30m',\n",
       " '8h 40m',\n",
       " '10h',\n",
       " '11h 30m',\n",
       " '7h 30m',\n",
       " ...]"
      ]
     },
     "execution_count": 127,
     "metadata": {},
     "output_type": "execute_result"
    }
   ],
   "source": [
    "duration"
   ]
  },
  {
   "cell_type": "code",
   "execution_count": 128,
   "id": "musical-breast",
   "metadata": {},
   "outputs": [],
   "source": [
    "#Here, we will be separating the minute and hours in to two different columns. "
   ]
  },
  {
   "cell_type": "code",
   "execution_count": 129,
   "id": "funny-quantity",
   "metadata": {},
   "outputs": [],
   "source": [
    "for i in range(len(duration)):\n",
    "    if len(duration[i].split()) != 2:\n",
    "        if 'm' in duration[i]:\n",
    "            duration[i] = '0h' + duration[i]\n",
    "        else:\n",
    "            duration[i] = duration[i] + '0m'\n",
    "            \n",
    "    \n",
    "duration_hours = []\n",
    "duration_minutes = []\n",
    "\n",
    "for i in range(len(duration)):\n",
    "    duration_hours.append(int(duration[i].split(sep = 'h')[0]))\n",
    "    duration_minutes.append(int(duration[i].split(sep = 'h')[1].split('m')[0]))\n",
    "    \n",
    "df['duration_hour'] = duration_hours\n",
    "df['duration_minute'] = duration_minutes"
   ]
  },
  {
   "cell_type": "markdown",
   "id": "ceramic-philosophy",
   "metadata": {},
   "source": [
    "    As we have number of stops available in the data, so there is no relevance for the route as the number of stops will get updated automatically.\n",
    "\n",
    "    We will remove the column route from the data as well ass duration as we have the split data for the same."
   ]
  },
  {
   "cell_type": "code",
   "execution_count": 130,
   "id": "constitutional-counter",
   "metadata": {},
   "outputs": [],
   "source": [
    "df=df.drop(columns=['Route','Duration'])"
   ]
  },
  {
   "cell_type": "code",
   "execution_count": 131,
   "id": "marine-fiction",
   "metadata": {},
   "outputs": [
    {
     "data": {
      "text/html": [
       "<div>\n",
       "<style scoped>\n",
       "    .dataframe tbody tr th:only-of-type {\n",
       "        vertical-align: middle;\n",
       "    }\n",
       "\n",
       "    .dataframe tbody tr th {\n",
       "        vertical-align: top;\n",
       "    }\n",
       "\n",
       "    .dataframe thead th {\n",
       "        text-align: right;\n",
       "    }\n",
       "</style>\n",
       "<table border=\"1\" class=\"dataframe\">\n",
       "  <thead>\n",
       "    <tr style=\"text-align: right;\">\n",
       "      <th></th>\n",
       "      <th>Airline</th>\n",
       "      <th>Source</th>\n",
       "      <th>Destination</th>\n",
       "      <th>Total_Stops</th>\n",
       "      <th>Price</th>\n",
       "      <th>month</th>\n",
       "      <th>Day</th>\n",
       "      <th>Departure hour</th>\n",
       "      <th>Departure minute</th>\n",
       "      <th>Arrival hour</th>\n",
       "      <th>Arrival minute</th>\n",
       "      <th>duration_hour</th>\n",
       "      <th>duration_minute</th>\n",
       "    </tr>\n",
       "  </thead>\n",
       "  <tbody>\n",
       "    <tr>\n",
       "      <th>0</th>\n",
       "      <td>IndiGo</td>\n",
       "      <td>Banglore</td>\n",
       "      <td>New Delhi</td>\n",
       "      <td>0</td>\n",
       "      <td>3897</td>\n",
       "      <td>3</td>\n",
       "      <td>24</td>\n",
       "      <td>22</td>\n",
       "      <td>20</td>\n",
       "      <td>1</td>\n",
       "      <td>10</td>\n",
       "      <td>2</td>\n",
       "      <td>50</td>\n",
       "    </tr>\n",
       "    <tr>\n",
       "      <th>1</th>\n",
       "      <td>Air India</td>\n",
       "      <td>Kolkata</td>\n",
       "      <td>Banglore</td>\n",
       "      <td>2</td>\n",
       "      <td>7662</td>\n",
       "      <td>1</td>\n",
       "      <td>5</td>\n",
       "      <td>5</td>\n",
       "      <td>50</td>\n",
       "      <td>13</td>\n",
       "      <td>15</td>\n",
       "      <td>7</td>\n",
       "      <td>25</td>\n",
       "    </tr>\n",
       "    <tr>\n",
       "      <th>2</th>\n",
       "      <td>Jet Airways</td>\n",
       "      <td>Delhi</td>\n",
       "      <td>Cochin</td>\n",
       "      <td>2</td>\n",
       "      <td>13882</td>\n",
       "      <td>9</td>\n",
       "      <td>6</td>\n",
       "      <td>9</td>\n",
       "      <td>25</td>\n",
       "      <td>4</td>\n",
       "      <td>25</td>\n",
       "      <td>19</td>\n",
       "      <td>0</td>\n",
       "    </tr>\n",
       "    <tr>\n",
       "      <th>3</th>\n",
       "      <td>IndiGo</td>\n",
       "      <td>Kolkata</td>\n",
       "      <td>Banglore</td>\n",
       "      <td>1</td>\n",
       "      <td>6218</td>\n",
       "      <td>12</td>\n",
       "      <td>5</td>\n",
       "      <td>18</td>\n",
       "      <td>5</td>\n",
       "      <td>23</td>\n",
       "      <td>30</td>\n",
       "      <td>5</td>\n",
       "      <td>25</td>\n",
       "    </tr>\n",
       "    <tr>\n",
       "      <th>4</th>\n",
       "      <td>IndiGo</td>\n",
       "      <td>Banglore</td>\n",
       "      <td>New Delhi</td>\n",
       "      <td>1</td>\n",
       "      <td>13302</td>\n",
       "      <td>1</td>\n",
       "      <td>3</td>\n",
       "      <td>16</td>\n",
       "      <td>50</td>\n",
       "      <td>21</td>\n",
       "      <td>35</td>\n",
       "      <td>4</td>\n",
       "      <td>45</td>\n",
       "    </tr>\n",
       "  </tbody>\n",
       "</table>\n",
       "</div>"
      ],
      "text/plain": [
       "       Airline    Source Destination Total_Stops  Price  month  Day  \\\n",
       "0       IndiGo  Banglore   New Delhi           0   3897      3   24   \n",
       "1    Air India   Kolkata    Banglore           2   7662      1    5   \n",
       "2  Jet Airways     Delhi      Cochin           2  13882      9    6   \n",
       "3       IndiGo   Kolkata    Banglore           1   6218     12    5   \n",
       "4       IndiGo  Banglore   New Delhi           1  13302      1    3   \n",
       "\n",
       "   Departure hour  Departure minute  Arrival hour  Arrival minute  \\\n",
       "0              22                20             1              10   \n",
       "1               5                50            13              15   \n",
       "2               9                25             4              25   \n",
       "3              18                 5            23              30   \n",
       "4              16                50            21              35   \n",
       "\n",
       "   duration_hour  duration_minute  \n",
       "0              2               50  \n",
       "1              7               25  \n",
       "2             19                0  \n",
       "3              5               25  \n",
       "4              4               45  "
      ]
     },
     "execution_count": 131,
     "metadata": {},
     "output_type": "execute_result"
    }
   ],
   "source": [
    "df.head()"
   ]
  },
  {
   "cell_type": "markdown",
   "id": "later-delight",
   "metadata": {},
   "source": [
    "### Visualization"
   ]
  },
  {
   "cell_type": "code",
   "execution_count": 132,
   "id": "creative-private",
   "metadata": {},
   "outputs": [
    {
     "name": "stdout",
     "output_type": "stream",
     "text": [
      "Jet Airways                          3849\n",
      "IndiGo                               2053\n",
      "Air India                            1751\n",
      "Multiple carriers                    1196\n",
      "SpiceJet                              818\n",
      "Vistara                               479\n",
      "Air Asia                              319\n",
      "GoAir                                 194\n",
      "Multiple carriers Premium economy      13\n",
      "Jet Airways Business                    6\n",
      "Vistara Premium economy                 3\n",
      "Trujet                                  1\n",
      "Name: Airline, dtype: int64\n"
     ]
    },
    {
     "data": {
      "image/png": "[encoded data removed]",
      "text/plain": [
       "<Figure size 1080x360 with 1 Axes>"
      ]
     },
     "metadata": {
      "needs_background": "light"
     },
     "output_type": "display_data"
    }
   ],
   "source": [
    "plt.figure(figsize=(15,5))\n",
    "sb.scatterplot(x='Airline',y='Price',data=df)\n",
    "plt.xticks(rotation = -65, fontsize = 10)\n",
    "print(df['Airline'].value_counts())\n",
    "plt.show()"
   ]
  },
  {
   "cell_type": "markdown",
   "id": "short-above",
   "metadata": {},
   "source": [
    "    We can see that Indigo, Air Asia, and Trujet has the cheapest flights. \n",
    "    \n",
    "    Jet Airways Business cost the highest. \n",
    "    \n",
    "    Other Airways are mostly economy. "
   ]
  },
  {
   "cell_type": "code",
   "execution_count": 133,
   "id": "forced-account",
   "metadata": {},
   "outputs": [
    {
     "name": "stdout",
     "output_type": "stream",
     "text": [
      "6     2535\n",
      "3     2211\n",
      "5     2074\n",
      "9     1406\n",
      "1     1075\n",
      "12     957\n",
      "4      424\n",
      "Name: month, dtype: int64\n"
     ]
    },
    {
     "data": {
      "image/png": "[encoded data removed]",
      "text/plain": [
       "<Figure size 1440x504 with 1 Axes>"
      ]
     },
     "metadata": {
      "needs_background": "light"
     },
     "output_type": "display_data"
    }
   ],
   "source": [
    "plt.figure(figsize = (20 , 7))\n",
    "plt.title('Count of flights month wise')\n",
    "sb.countplot(x = 'month', data = df)\n",
    "plt.xlabel('Month')\n",
    "plt.ylabel('Count of flights')\n",
    "print(df['month'].value_counts())"
   ]
  },
  {
   "cell_type": "markdown",
   "id": "induced-devices",
   "metadata": {},
   "source": [
    "    We can see that the highest number of flights are in February, May, and June. "
   ]
  },
  {
   "cell_type": "code",
   "execution_count": 134,
   "id": "selected-renewal",
   "metadata": {},
   "outputs": [
    {
     "data": {
      "text/plain": [
       "<AxesSubplot:xlabel='Departure hour', ylabel='count'>"
      ]
     },
     "execution_count": 134,
     "metadata": {},
     "output_type": "execute_result"
    },
    {
     "data": {
      "image/png": "[encoded data removed]",
      "text/plain": [
       "<Figure size 1584x504 with 1 Axes>"
      ]
     },
     "metadata": {
      "needs_background": "light"
     },
     "output_type": "display_data"
    }
   ],
   "source": [
    "plt.figure(figsize = (22, 7))\n",
    "sb.countplot(x = 'Departure hour', data = df)"
   ]
  },
  {
   "cell_type": "markdown",
   "id": "vocational-undergraduate",
   "metadata": {},
   "source": [
    "    We can see that the highest number of flight departures are at 7 & 9 AM. Post-noon, the busiest time is between 5 & 8 PM.\n",
    "    \n",
    "    The number of flights decrease between 11 PM and 1 AM. \n",
    "    \n",
    "    "
   ]
  },
  {
   "cell_type": "code",
   "execution_count": 135,
   "id": "matched-stroke",
   "metadata": {},
   "outputs": [
    {
     "data": {
      "text/plain": [
       "<matplotlib.collections.PathCollection at 0x1a72af6e5b0>"
      ]
     },
     "execution_count": 135,
     "metadata": {},
     "output_type": "execute_result"
    },
    {
     "data": {
      "image/png": "[encoded data removed]",
      "text/plain": [
       "<Figure size 1584x504 with 1 Axes>"
      ]
     },
     "metadata": {
      "needs_background": "light"
     },
     "output_type": "display_data"
    }
   ],
   "source": [
    "plt.figure(figsize = (22, 7))\n",
    "plt.scatter(df['duration_hour'], df['Price'])"
   ]
  },
  {
   "cell_type": "markdown",
   "id": "military-sucking",
   "metadata": {},
   "source": [
    "    We can see that the price of the ticket is not related to the duration of the journey. "
   ]
  },
  {
   "cell_type": "code",
   "execution_count": 136,
   "id": "religious-floating",
   "metadata": {},
   "outputs": [
    {
     "data": {
      "text/plain": [
       "<AxesSubplot:xlabel='Source', ylabel='count'>"
      ]
     },
     "execution_count": 136,
     "metadata": {},
     "output_type": "execute_result"
    },
    {
     "data": {
      "image/png": "[encoded data removed]",
      "text/plain": [
       "<Figure size 1584x504 with 1 Axes>"
      ]
     },
     "metadata": {
      "needs_background": "light"
     },
     "output_type": "display_data"
    }
   ],
   "source": [
    "plt.figure(figsize = (22, 7))\n",
    "sb.countplot(x = 'Source', data = df)"
   ]
  },
  {
   "cell_type": "markdown",
   "id": "personal-tenant",
   "metadata": {},
   "source": [
    "    We can see that the most of the flights start from Delhi, seconded by Kolkata and Bangalore. "
   ]
  },
  {
   "cell_type": "code",
   "execution_count": 137,
   "id": "supreme-elder",
   "metadata": {},
   "outputs": [
    {
     "data": {
      "text/plain": [
       "<matplotlib.collections.PathCollection at 0x1a72af1ec10>"
      ]
     },
     "execution_count": 137,
     "metadata": {},
     "output_type": "execute_result"
    },
    {
     "data": {
      "image/png": "[encoded data removed]",
      "text/plain": [
       "<Figure size 1584x504 with 1 Axes>"
      ]
     },
     "metadata": {
      "needs_background": "light"
     },
     "output_type": "display_data"
    }
   ],
   "source": [
    "plt.figure(figsize = (22, 7))\n",
    "plt.title('Price VS Stops')\n",
    "plt.scatter(df['Total_Stops'], df['Price'])"
   ]
  },
  {
   "cell_type": "markdown",
   "id": "adjacent-rendering",
   "metadata": {},
   "source": [
    "    We can see that the number of stops and Price are not correlated. "
   ]
  },
  {
   "cell_type": "code",
   "execution_count": 138,
   "id": "treated-volunteer",
   "metadata": {},
   "outputs": [
    {
     "name": "stdout",
     "output_type": "stream",
     "text": [
      "Jet Airways                          3849\n",
      "IndiGo                               2053\n",
      "Air India                            1751\n",
      "Multiple carriers                    1196\n",
      "SpiceJet                              818\n",
      "Vistara                               479\n",
      "Air Asia                              319\n",
      "GoAir                                 194\n",
      "Multiple carriers Premium economy      13\n",
      "Jet Airways Business                    6\n",
      "Vistara Premium economy                 3\n",
      "Trujet                                  1\n",
      "Name: Airline, dtype: int64\n"
     ]
    },
    {
     "data": {
      "image/png": "[encoded data removed]",
      "text/plain": [
       "<Figure size 1080x360 with 1 Axes>"
      ]
     },
     "metadata": {
      "needs_background": "light"
     },
     "output_type": "display_data"
    }
   ],
   "source": [
    "plt.figure(figsize=(15,5))\n",
    "sb.countplot(x='Source', hue = 'Airline', data=df)\n",
    "plt.xticks(rotation = -65, fontsize = 10)\n",
    "print(df['Airline'].value_counts())\n",
    "plt.show()"
   ]
  },
  {
   "cell_type": "markdown",
   "id": "adequate-liberal",
   "metadata": {},
   "source": [
    "    This plot shows the number of flights from each source locations. \n",
    "    \n",
    "    We can see that Trujet is only available from Delhi. \n",
    "    \n",
    "    Jet Airwarys Business is also only available Bangalore. "
   ]
  },
  {
   "cell_type": "code",
   "execution_count": 139,
   "id": "stock-stations",
   "metadata": {},
   "outputs": [
    {
     "data": {
      "image/png": "[encoded data removed]",
      "text/plain": [
       "<Figure size 3600x720 with 1 Axes>"
      ]
     },
     "metadata": {
      "needs_background": "light"
     },
     "output_type": "display_data"
    }
   ],
   "source": [
    "plt.figure(figsize = (50,10))\n",
    "sb.barplot(x = 'Departure hour', y ='Price', data = df)\n",
    "plt.xticks(rotation = -65, fontsize = 10)\n",
    "plt.show()"
   ]
  },
  {
   "cell_type": "markdown",
   "id": "living-thesis",
   "metadata": {},
   "source": [
    "    We can see that the flights early morning costs less compared to peak times. "
   ]
  },
  {
   "cell_type": "code",
   "execution_count": 140,
   "id": "overhead-syndrome",
   "metadata": {},
   "outputs": [
    {
     "data": {
      "image/png": "[encoded data removed]",
      "text/plain": [
       "<Figure size 3600x720 with 1 Axes>"
      ]
     },
     "metadata": {
      "needs_background": "light"
     },
     "output_type": "display_data"
    }
   ],
   "source": [
    "plt.figure(figsize = (50,10))\n",
    "sb.barplot(x = 'Source', y ='Price', data = df)\n",
    "plt.xticks(rotation = -65, fontsize = 10)\n",
    "plt.show()"
   ]
  },
  {
   "cell_type": "markdown",
   "id": "julian-release",
   "metadata": {},
   "source": [
    "    We can see that the prices for flights from Delhi is the highest, seconded by Kolkata and Bangalore. "
   ]
  },
  {
   "cell_type": "code",
   "execution_count": 141,
   "id": "royal-activation",
   "metadata": {},
   "outputs": [
    {
     "data": {
      "image/png": "[encoded data removed]",
      "text/plain": [
       "<Figure size 3600x720 with 1 Axes>"
      ]
     },
     "metadata": {
      "needs_background": "light"
     },
     "output_type": "display_data"
    }
   ],
   "source": [
    "plt.figure(figsize = (50,10))\n",
    "sb.barplot(x = 'Airline', y ='Price', data = df)\n",
    "plt.xticks(rotation = -65, fontsize = 10)\n",
    "plt.show()"
   ]
  },
  {
   "cell_type": "markdown",
   "id": "instructional-criminal",
   "metadata": {},
   "source": [
    "    We can see that Jet Airwarys Business costs the highest, seconded by Multiple carriers permium economy and multiple carriers, jet airways etc. "
   ]
  },
  {
   "cell_type": "markdown",
   "id": "capital-testimony",
   "metadata": {},
   "source": [
    "### Summary"
   ]
  },
  {
   "cell_type": "code",
   "execution_count": 142,
   "id": "covered-doubt",
   "metadata": {},
   "outputs": [
    {
     "data": {
      "text/html": [
       "<div>\n",
       "<style scoped>\n",
       "    .dataframe tbody tr th:only-of-type {\n",
       "        vertical-align: middle;\n",
       "    }\n",
       "\n",
       "    .dataframe tbody tr th {\n",
       "        vertical-align: top;\n",
       "    }\n",
       "\n",
       "    .dataframe thead th {\n",
       "        text-align: right;\n",
       "    }\n",
       "</style>\n",
       "<table border=\"1\" class=\"dataframe\">\n",
       "  <thead>\n",
       "    <tr style=\"text-align: right;\">\n",
       "      <th></th>\n",
       "      <th>Price</th>\n",
       "      <th>month</th>\n",
       "      <th>Day</th>\n",
       "      <th>Departure hour</th>\n",
       "      <th>Departure minute</th>\n",
       "      <th>Arrival hour</th>\n",
       "      <th>Arrival minute</th>\n",
       "      <th>duration_hour</th>\n",
       "      <th>duration_minute</th>\n",
       "    </tr>\n",
       "  </thead>\n",
       "  <tbody>\n",
       "    <tr>\n",
       "      <th>count</th>\n",
       "      <td>10682.000000</td>\n",
       "      <td>10682.000000</td>\n",
       "      <td>10682.000000</td>\n",
       "      <td>10682.000000</td>\n",
       "      <td>10682.000000</td>\n",
       "      <td>10682.000000</td>\n",
       "      <td>10682.000000</td>\n",
       "      <td>10682.000000</td>\n",
       "      <td>10682.000000</td>\n",
       "    </tr>\n",
       "    <tr>\n",
       "      <th>mean</th>\n",
       "      <td>9087.214567</td>\n",
       "      <td>5.534731</td>\n",
       "      <td>12.682925</td>\n",
       "      <td>12.491013</td>\n",
       "      <td>24.409287</td>\n",
       "      <td>13.349186</td>\n",
       "      <td>24.690601</td>\n",
       "      <td>10.244898</td>\n",
       "      <td>28.326624</td>\n",
       "    </tr>\n",
       "    <tr>\n",
       "      <th>std</th>\n",
       "      <td>4611.548810</td>\n",
       "      <td>2.987626</td>\n",
       "      <td>8.803800</td>\n",
       "      <td>5.748820</td>\n",
       "      <td>18.767801</td>\n",
       "      <td>6.859317</td>\n",
       "      <td>16.506808</td>\n",
       "      <td>8.494916</td>\n",
       "      <td>16.945817</td>\n",
       "    </tr>\n",
       "    <tr>\n",
       "      <th>min</th>\n",
       "      <td>1759.000000</td>\n",
       "      <td>1.000000</td>\n",
       "      <td>3.000000</td>\n",
       "      <td>0.000000</td>\n",
       "      <td>0.000000</td>\n",
       "      <td>0.000000</td>\n",
       "      <td>0.000000</td>\n",
       "      <td>0.000000</td>\n",
       "      <td>0.000000</td>\n",
       "    </tr>\n",
       "    <tr>\n",
       "      <th>25%</th>\n",
       "      <td>5277.000000</td>\n",
       "      <td>3.000000</td>\n",
       "      <td>5.000000</td>\n",
       "      <td>8.000000</td>\n",
       "      <td>5.000000</td>\n",
       "      <td>8.000000</td>\n",
       "      <td>10.000000</td>\n",
       "      <td>2.000000</td>\n",
       "      <td>15.000000</td>\n",
       "    </tr>\n",
       "    <tr>\n",
       "      <th>50%</th>\n",
       "      <td>8372.000000</td>\n",
       "      <td>5.000000</td>\n",
       "      <td>6.000000</td>\n",
       "      <td>11.000000</td>\n",
       "      <td>25.000000</td>\n",
       "      <td>14.000000</td>\n",
       "      <td>25.000000</td>\n",
       "      <td>8.000000</td>\n",
       "      <td>30.000000</td>\n",
       "    </tr>\n",
       "    <tr>\n",
       "      <th>75%</th>\n",
       "      <td>12373.000000</td>\n",
       "      <td>6.000000</td>\n",
       "      <td>21.000000</td>\n",
       "      <td>18.000000</td>\n",
       "      <td>40.000000</td>\n",
       "      <td>19.000000</td>\n",
       "      <td>35.000000</td>\n",
       "      <td>15.000000</td>\n",
       "      <td>45.000000</td>\n",
       "    </tr>\n",
       "    <tr>\n",
       "      <th>max</th>\n",
       "      <td>79512.000000</td>\n",
       "      <td>12.000000</td>\n",
       "      <td>27.000000</td>\n",
       "      <td>23.000000</td>\n",
       "      <td>55.000000</td>\n",
       "      <td>23.000000</td>\n",
       "      <td>55.000000</td>\n",
       "      <td>47.000000</td>\n",
       "      <td>55.000000</td>\n",
       "    </tr>\n",
       "  </tbody>\n",
       "</table>\n",
       "</div>"
      ],
      "text/plain": [
       "              Price         month           Day  Departure hour  \\\n",
       "count  10682.000000  10682.000000  10682.000000    10682.000000   \n",
       "mean    9087.214567      5.534731     12.682925       12.491013   \n",
       "std     4611.548810      2.987626      8.803800        5.748820   \n",
       "min     1759.000000      1.000000      3.000000        0.000000   \n",
       "25%     5277.000000      3.000000      5.000000        8.000000   \n",
       "50%     8372.000000      5.000000      6.000000       11.000000   \n",
       "75%    12373.000000      6.000000     21.000000       18.000000   \n",
       "max    79512.000000     12.000000     27.000000       23.000000   \n",
       "\n",
       "       Departure minute  Arrival hour  Arrival minute  duration_hour  \\\n",
       "count      10682.000000  10682.000000    10682.000000   10682.000000   \n",
       "mean          24.409287     13.349186       24.690601      10.244898   \n",
       "std           18.767801      6.859317       16.506808       8.494916   \n",
       "min            0.000000      0.000000        0.000000       0.000000   \n",
       "25%            5.000000      8.000000       10.000000       2.000000   \n",
       "50%           25.000000     14.000000       25.000000       8.000000   \n",
       "75%           40.000000     19.000000       35.000000      15.000000   \n",
       "max           55.000000     23.000000       55.000000      47.000000   \n",
       "\n",
       "       duration_minute  \n",
       "count     10682.000000  \n",
       "mean         28.326624  \n",
       "std          16.945817  \n",
       "min           0.000000  \n",
       "25%          15.000000  \n",
       "50%          30.000000  \n",
       "75%          45.000000  \n",
       "max          55.000000  "
      ]
     },
     "execution_count": 142,
     "metadata": {},
     "output_type": "execute_result"
    }
   ],
   "source": [
    "df.describe()"
   ]
  },
  {
   "cell_type": "code",
   "execution_count": 143,
   "id": "spiritual-explanation",
   "metadata": {},
   "outputs": [
    {
     "data": {
      "text/plain": [
       "<AxesSubplot:>"
      ]
     },
     "execution_count": 143,
     "metadata": {},
     "output_type": "execute_result"
    },
    {
     "data": {
      "image/png": "[encoded data removed]",
      "text/plain": [
       "<Figure size 1584x504 with 2 Axes>"
      ]
     },
     "metadata": {
      "needs_background": "light"
     },
     "output_type": "display_data"
    }
   ],
   "source": [
    "plt.figure(figsize = (22,7))\n",
    "sb.heatmap(df.describe(), annot = True, fmt = '0.2f')"
   ]
  },
  {
   "cell_type": "markdown",
   "id": "viral-puzzle",
   "metadata": {},
   "source": [
    "    We can see that the only column with high difference in mean and max values are for price. \n",
    "    \n",
    "    This column will be scaled later. "
   ]
  },
  {
   "cell_type": "markdown",
   "id": "democratic-introduction",
   "metadata": {},
   "source": [
    "### Correlation"
   ]
  },
  {
   "cell_type": "code",
   "execution_count": 144,
   "id": "american-steering",
   "metadata": {},
   "outputs": [
    {
     "data": {
      "text/html": [
       "<div>\n",
       "<style scoped>\n",
       "    .dataframe tbody tr th:only-of-type {\n",
       "        vertical-align: middle;\n",
       "    }\n",
       "\n",
       "    .dataframe tbody tr th {\n",
       "        vertical-align: top;\n",
       "    }\n",
       "\n",
       "    .dataframe thead th {\n",
       "        text-align: right;\n",
       "    }\n",
       "</style>\n",
       "<table border=\"1\" class=\"dataframe\">\n",
       "  <thead>\n",
       "    <tr style=\"text-align: right;\">\n",
       "      <th></th>\n",
       "      <th>Price</th>\n",
       "      <th>month</th>\n",
       "      <th>Day</th>\n",
       "      <th>Departure hour</th>\n",
       "      <th>Departure minute</th>\n",
       "      <th>Arrival hour</th>\n",
       "      <th>Arrival minute</th>\n",
       "      <th>duration_hour</th>\n",
       "      <th>duration_minute</th>\n",
       "    </tr>\n",
       "  </thead>\n",
       "  <tbody>\n",
       "    <tr>\n",
       "      <th>Price</th>\n",
       "      <td>1.000000</td>\n",
       "      <td>0.010705</td>\n",
       "      <td>-0.165448</td>\n",
       "      <td>0.006799</td>\n",
       "      <td>-0.024458</td>\n",
       "      <td>0.024244</td>\n",
       "      <td>-0.086155</td>\n",
       "      <td>0.508778</td>\n",
       "      <td>-0.124855</td>\n",
       "    </tr>\n",
       "    <tr>\n",
       "      <th>month</th>\n",
       "      <td>0.010705</td>\n",
       "      <td>1.000000</td>\n",
       "      <td>-0.264896</td>\n",
       "      <td>0.028189</td>\n",
       "      <td>0.002136</td>\n",
       "      <td>-0.004329</td>\n",
       "      <td>-0.025786</td>\n",
       "      <td>0.055552</td>\n",
       "      <td>-0.018597</td>\n",
       "    </tr>\n",
       "    <tr>\n",
       "      <th>Day</th>\n",
       "      <td>-0.165448</td>\n",
       "      <td>-0.264896</td>\n",
       "      <td>1.000000</td>\n",
       "      <td>-0.002301</td>\n",
       "      <td>-0.016433</td>\n",
       "      <td>-0.002176</td>\n",
       "      <td>-0.021423</td>\n",
       "      <td>-0.037964</td>\n",
       "      <td>-0.007708</td>\n",
       "    </tr>\n",
       "    <tr>\n",
       "      <th>Departure hour</th>\n",
       "      <td>0.006799</td>\n",
       "      <td>0.028189</td>\n",
       "      <td>-0.002301</td>\n",
       "      <td>1.000000</td>\n",
       "      <td>-0.024745</td>\n",
       "      <td>0.005180</td>\n",
       "      <td>0.067911</td>\n",
       "      <td>0.002869</td>\n",
       "      <td>-0.023707</td>\n",
       "    </tr>\n",
       "    <tr>\n",
       "      <th>Departure minute</th>\n",
       "      <td>-0.024458</td>\n",
       "      <td>0.002136</td>\n",
       "      <td>-0.016433</td>\n",
       "      <td>-0.024745</td>\n",
       "      <td>1.000000</td>\n",
       "      <td>0.043122</td>\n",
       "      <td>-0.017597</td>\n",
       "      <td>-0.022104</td>\n",
       "      <td>0.092485</td>\n",
       "    </tr>\n",
       "    <tr>\n",
       "      <th>Arrival hour</th>\n",
       "      <td>0.024244</td>\n",
       "      <td>-0.004329</td>\n",
       "      <td>-0.002176</td>\n",
       "      <td>0.005180</td>\n",
       "      <td>0.043122</td>\n",
       "      <td>1.000000</td>\n",
       "      <td>-0.154363</td>\n",
       "      <td>0.055276</td>\n",
       "      <td>-0.118309</td>\n",
       "    </tr>\n",
       "    <tr>\n",
       "      <th>Arrival minute</th>\n",
       "      <td>-0.086155</td>\n",
       "      <td>-0.025786</td>\n",
       "      <td>-0.021423</td>\n",
       "      <td>0.067911</td>\n",
       "      <td>-0.017597</td>\n",
       "      <td>-0.154363</td>\n",
       "      <td>1.000000</td>\n",
       "      <td>-0.074450</td>\n",
       "      <td>0.151628</td>\n",
       "    </tr>\n",
       "    <tr>\n",
       "      <th>duration_hour</th>\n",
       "      <td>0.508778</td>\n",
       "      <td>0.055552</td>\n",
       "      <td>-0.037964</td>\n",
       "      <td>0.002869</td>\n",
       "      <td>-0.022104</td>\n",
       "      <td>0.055276</td>\n",
       "      <td>-0.074450</td>\n",
       "      <td>1.000000</td>\n",
       "      <td>-0.126468</td>\n",
       "    </tr>\n",
       "    <tr>\n",
       "      <th>duration_minute</th>\n",
       "      <td>-0.124855</td>\n",
       "      <td>-0.018597</td>\n",
       "      <td>-0.007708</td>\n",
       "      <td>-0.023707</td>\n",
       "      <td>0.092485</td>\n",
       "      <td>-0.118309</td>\n",
       "      <td>0.151628</td>\n",
       "      <td>-0.126468</td>\n",
       "      <td>1.000000</td>\n",
       "    </tr>\n",
       "  </tbody>\n",
       "</table>\n",
       "</div>"
      ],
      "text/plain": [
       "                     Price     month       Day  Departure hour  \\\n",
       "Price             1.000000  0.010705 -0.165448        0.006799   \n",
       "month             0.010705  1.000000 -0.264896        0.028189   \n",
       "Day              -0.165448 -0.264896  1.000000       -0.002301   \n",
       "Departure hour    0.006799  0.028189 -0.002301        1.000000   \n",
       "Departure minute -0.024458  0.002136 -0.016433       -0.024745   \n",
       "Arrival hour      0.024244 -0.004329 -0.002176        0.005180   \n",
       "Arrival minute   -0.086155 -0.025786 -0.021423        0.067911   \n",
       "duration_hour     0.508778  0.055552 -0.037964        0.002869   \n",
       "duration_minute  -0.124855 -0.018597 -0.007708       -0.023707   \n",
       "\n",
       "                  Departure minute  Arrival hour  Arrival minute  \\\n",
       "Price                    -0.024458      0.024244       -0.086155   \n",
       "month                     0.002136     -0.004329       -0.025786   \n",
       "Day                      -0.016433     -0.002176       -0.021423   \n",
       "Departure hour           -0.024745      0.005180        0.067911   \n",
       "Departure minute          1.000000      0.043122       -0.017597   \n",
       "Arrival hour              0.043122      1.000000       -0.154363   \n",
       "Arrival minute           -0.017597     -0.154363        1.000000   \n",
       "duration_hour            -0.022104      0.055276       -0.074450   \n",
       "duration_minute           0.092485     -0.118309        0.151628   \n",
       "\n",
       "                  duration_hour  duration_minute  \n",
       "Price                  0.508778        -0.124855  \n",
       "month                  0.055552        -0.018597  \n",
       "Day                   -0.037964        -0.007708  \n",
       "Departure hour         0.002869        -0.023707  \n",
       "Departure minute      -0.022104         0.092485  \n",
       "Arrival hour           0.055276        -0.118309  \n",
       "Arrival minute        -0.074450         0.151628  \n",
       "duration_hour          1.000000        -0.126468  \n",
       "duration_minute       -0.126468         1.000000  "
      ]
     },
     "execution_count": 144,
     "metadata": {},
     "output_type": "execute_result"
    }
   ],
   "source": [
    "df.corr()"
   ]
  },
  {
   "cell_type": "code",
   "execution_count": 145,
   "id": "great-intranet",
   "metadata": {},
   "outputs": [
    {
     "data": {
      "text/plain": [
       "<AxesSubplot:>"
      ]
     },
     "execution_count": 145,
     "metadata": {},
     "output_type": "execute_result"
    },
    {
     "data": {
      "image/png": "[encoded data removed]",
      "text/plain": [
       "<Figure size 1440x720 with 2 Axes>"
      ]
     },
     "metadata": {
      "needs_background": "light"
     },
     "output_type": "display_data"
    }
   ],
   "source": [
    "plt.figure(figsize = (20,10))\n",
    "sb.heatmap(df.corr(), annot = True, fmt = '0.2f')"
   ]
  },
  {
   "cell_type": "markdown",
   "id": "sacred-seeker",
   "metadata": {},
   "source": [
    "Observation: \n",
    "    \n",
    "    We can see that Duration_hour and Price has positive correlation. \n",
    "    \n",
    "    "
   ]
  },
  {
   "cell_type": "markdown",
   "id": "pediatric-latvia",
   "metadata": {},
   "source": [
    "### Encoding"
   ]
  },
  {
   "cell_type": "code",
   "execution_count": 146,
   "id": "elementary-booking",
   "metadata": {},
   "outputs": [],
   "source": [
    "from sklearn.preprocessing import OrdinalEncoder"
   ]
  },
  {
   "cell_type": "code",
   "execution_count": 147,
   "id": "sporting-gross",
   "metadata": {},
   "outputs": [],
   "source": [
    "oe = OrdinalEncoder()"
   ]
  },
  {
   "cell_type": "code",
   "execution_count": 148,
   "id": "portable-intellectual",
   "metadata": {},
   "outputs": [
    {
     "data": {
      "text/plain": [
       "Airline             object\n",
       "Source              object\n",
       "Destination         object\n",
       "Total_Stops         object\n",
       "Price                int64\n",
       "month                int64\n",
       "Day                  int64\n",
       "Departure hour       int64\n",
       "Departure minute     int64\n",
       "Arrival hour         int64\n",
       "Arrival minute       int64\n",
       "duration_hour        int64\n",
       "duration_minute      int64\n",
       "dtype: object"
      ]
     },
     "execution_count": 148,
     "metadata": {},
     "output_type": "execute_result"
    }
   ],
   "source": [
    "#Before Encoding, let's check the dtypes. \n",
    "df.dtypes"
   ]
  },
  {
   "cell_type": "markdown",
   "id": "mineral-tenant",
   "metadata": {},
   "source": [
    "    We'll have to change total_stops to int"
   ]
  },
  {
   "cell_type": "code",
   "execution_count": 149,
   "id": "separated-induction",
   "metadata": {},
   "outputs": [],
   "source": [
    "df['Total_Stops']=df['Total_Stops'].astype(int)"
   ]
  },
  {
   "cell_type": "code",
   "execution_count": 150,
   "id": "grateful-killer",
   "metadata": {},
   "outputs": [
    {
     "data": {
      "text/plain": [
       "Airline             object\n",
       "Source              object\n",
       "Destination         object\n",
       "Total_Stops          int32\n",
       "Price                int64\n",
       "month                int64\n",
       "Day                  int64\n",
       "Departure hour       int64\n",
       "Departure minute     int64\n",
       "Arrival hour         int64\n",
       "Arrival minute       int64\n",
       "duration_hour        int64\n",
       "duration_minute      int64\n",
       "dtype: object"
      ]
     },
     "execution_count": 150,
     "metadata": {},
     "output_type": "execute_result"
    }
   ],
   "source": [
    "df.dtypes"
   ]
  },
  {
   "cell_type": "code",
   "execution_count": 151,
   "id": "gross-picking",
   "metadata": {},
   "outputs": [],
   "source": [
    "for i in df.columns:\n",
    "    if df[i].dtypes == 'object':\n",
    "        df[i] = oe.fit_transform(df[i].values.reshape(-1,1))"
   ]
  },
  {
   "cell_type": "code",
   "execution_count": 152,
   "id": "japanese-renaissance",
   "metadata": {},
   "outputs": [
    {
     "data": {
      "text/plain": [
       "Airline             float64\n",
       "Source              float64\n",
       "Destination         float64\n",
       "Total_Stops           int32\n",
       "Price                 int64\n",
       "month                 int64\n",
       "Day                   int64\n",
       "Departure hour        int64\n",
       "Departure minute      int64\n",
       "Arrival hour          int64\n",
       "Arrival minute        int64\n",
       "duration_hour         int64\n",
       "duration_minute       int64\n",
       "dtype: object"
      ]
     },
     "execution_count": 152,
     "metadata": {},
     "output_type": "execute_result"
    }
   ],
   "source": [
    "df.dtypes"
   ]
  },
  {
   "cell_type": "markdown",
   "id": "exclusive-bridge",
   "metadata": {},
   "source": [
    "### Splitting X & Y"
   ]
  },
  {
   "cell_type": "code",
   "execution_count": 153,
   "id": "coupled-basin",
   "metadata": {},
   "outputs": [],
   "source": [
    "x = df.drop(['Price'], axis = 1)\n",
    "y = df['Price']"
   ]
  },
  {
   "cell_type": "markdown",
   "id": "sunrise-collaboration",
   "metadata": {},
   "source": [
    "    Since Prices are the output variable, and since all the other columns have either categorical or limited values, we do not have to check the outliers or scale this dataset. "
   ]
  },
  {
   "cell_type": "code",
   "execution_count": 154,
   "id": "wrapped-raise",
   "metadata": {},
   "outputs": [
    {
     "data": {
      "text/plain": [
       "(10682, 12)"
      ]
     },
     "execution_count": 154,
     "metadata": {},
     "output_type": "execute_result"
    }
   ],
   "source": [
    "x.shape"
   ]
  },
  {
   "cell_type": "code",
   "execution_count": 155,
   "id": "divine-anthony",
   "metadata": {},
   "outputs": [
    {
     "data": {
      "text/plain": [
       "(10682,)"
      ]
     },
     "execution_count": 155,
     "metadata": {},
     "output_type": "execute_result"
    }
   ],
   "source": [
    "y.shape"
   ]
  },
  {
   "cell_type": "markdown",
   "id": "nervous-rating",
   "metadata": {},
   "source": [
    "### Importing the models"
   ]
  },
  {
   "cell_type": "code",
   "execution_count": 156,
   "id": "heard-authority",
   "metadata": {},
   "outputs": [],
   "source": [
    "from sklearn.model_selection import train_test_split\n",
    "from sklearn.linear_model import LinearRegression\n",
    "from sklearn.neighbors import KNeighborsRegressor\n",
    "from sklearn.tree import DecisionTreeRegressor\n",
    "from sklearn.svm import SVR\n",
    "from sklearn.ensemble import RandomForestRegressor\n",
    "from sklearn.linear_model import Lasso, Ridge, ElasticNet\n",
    "from sklearn.metrics import r2_score, mean_squared_error, mean_absolute_error"
   ]
  },
  {
   "cell_type": "code",
   "execution_count": 157,
   "id": "based-minutes",
   "metadata": {},
   "outputs": [],
   "source": [
    "#Creating instances for each model\n",
    "lr = LinearRegression()\n",
    "knr = KNeighborsRegressor()\n",
    "dtr = DecisionTreeRegressor()\n",
    "rfr = RandomForestRegressor()\n",
    "svr = SVR()\n",
    "ls = Lasso()\n",
    "rd = Ridge()\n",
    "eln = ElasticNet()"
   ]
  },
  {
   "cell_type": "code",
   "execution_count": 158,
   "id": "framed-protocol",
   "metadata": {},
   "outputs": [],
   "source": [
    "x_train, x_test, y_train, y_test = train_test_split(x, y, test_size = 0.3, random_state = 77)"
   ]
  },
  {
   "cell_type": "code",
   "execution_count": 159,
   "id": "diagnostic-grill",
   "metadata": {},
   "outputs": [
    {
     "data": {
      "text/plain": [
       "(7477, 12)"
      ]
     },
     "execution_count": 159,
     "metadata": {},
     "output_type": "execute_result"
    }
   ],
   "source": [
    "x_train.shape"
   ]
  },
  {
   "cell_type": "code",
   "execution_count": 160,
   "id": "imposed-blake",
   "metadata": {},
   "outputs": [
    {
     "data": {
      "text/plain": [
       "(3205, 12)"
      ]
     },
     "execution_count": 160,
     "metadata": {},
     "output_type": "execute_result"
    }
   ],
   "source": [
    "x_test.shape"
   ]
  },
  {
   "cell_type": "code",
   "execution_count": 161,
   "id": "aware-surprise",
   "metadata": {},
   "outputs": [
    {
     "data": {
      "text/plain": [
       "(7477,)"
      ]
     },
     "execution_count": 161,
     "metadata": {},
     "output_type": "execute_result"
    }
   ],
   "source": [
    "y_train.shape"
   ]
  },
  {
   "cell_type": "code",
   "execution_count": 162,
   "id": "informative-dealer",
   "metadata": {},
   "outputs": [
    {
     "data": {
      "text/plain": [
       "(3205,)"
      ]
     },
     "execution_count": 162,
     "metadata": {},
     "output_type": "execute_result"
    }
   ],
   "source": [
    "y_test.shape"
   ]
  },
  {
   "cell_type": "code",
   "execution_count": 163,
   "id": "ethical-combine",
   "metadata": {},
   "outputs": [
    {
     "name": "stdout",
     "output_type": "stream",
     "text": [
      "LinearRegression()\n",
      "Score:  0.415848768566468\n",
      "Mean absolute error:  2437.083132678716\n",
      "Mean squared error:  10946069.122228678\n",
      "Root mean squared error:  3308.4844146872865\n",
      "R2 Score:  0.4563115514865398\n",
      "\n",
      "\n",
      "\n",
      "KNeighborsRegressor()\n",
      "Score:  0.7387057191314061\n",
      "Mean absolute error:  1875.9155070202808\n",
      "Mean squared error:  9019061.02055538\n",
      "Root mean squared error:  3003.175156489441\n",
      "R2 Score:  0.5520255501259259\n",
      "\n",
      "\n",
      "\n",
      "DecisionTreeRegressor()\n",
      "Score:  0.9737711973371953\n",
      "Mean absolute error:  1326.422620904836\n",
      "Mean squared error:  5435949.975884036\n",
      "Root mean squared error:  2331.5123795262243\n",
      "R2 Score:  0.7299977575892171\n",
      "\n",
      "\n",
      "\n",
      "SVR()\n",
      "Score:  0.0026160548988583\n",
      "Mean absolute error:  3544.3612857357143\n",
      "Mean squared error:  20174233.557702124\n",
      "Root mean squared error:  4491.573617085901\n",
      "R2 Score:  -0.0020490114264881676\n",
      "\n",
      "\n",
      "\n",
      "RandomForestRegressor()\n",
      "Score:  0.9509808049837254\n",
      "Mean absolute error:  1186.5755194384224\n",
      "Mean squared error:  3575338.4591686777\n",
      "Root mean squared error:  1890.8565411391414\n",
      "R2 Score:  0.8224138548670026\n",
      "\n",
      "\n",
      "\n",
      "Lasso()\n",
      "Score:  0.4158484573472465\n",
      "Mean absolute error:  2436.888584003235\n",
      "Mean squared error:  10946023.627699925\n",
      "Root mean squared error:  3308.4775392467036\n",
      "R2 Score:  0.45631381118812553\n",
      "\n",
      "\n",
      "\n",
      "Ridge()\n",
      "Score:  0.4158487055753666\n",
      "Mean absolute error:  2437.0241957746152\n",
      "Mean squared error:  10946038.53158517\n",
      "Root mean squared error:  3308.479791624118\n",
      "R2 Score:  0.4563130709159643\n",
      "\n",
      "\n",
      "\n",
      "ElasticNet()\n",
      "Score:  0.3488479938566673\n",
      "Mean absolute error:  2588.824774545023\n",
      "Mean squared error:  12414961.87079734\n",
      "Root mean squared error:  3523.4871747740676\n",
      "R2 Score:  0.3833520250497686\n",
      "\n",
      "\n",
      "\n"
     ]
    }
   ],
   "source": [
    "model = [lr, knr, dtr, svr, rfr, ls, rd, eln]\n",
    "for m in model:\n",
    "    print(m)\n",
    "    m.fit(x_train, y_train)\n",
    "    a = m.score(x_train, y_train)\n",
    "    pred_test = m.predict(x_test)\n",
    "    pred_train = m.predict(x_train)\n",
    "    print('Score: ', a)\n",
    "    print('Mean absolute error: ', mean_absolute_error(y_test,pred_test))\n",
    "    print('Mean squared error: ', mean_squared_error(y_test,pred_test))\n",
    "    print('Root mean squared error: ', np.sqrt(mean_squared_error(y_test,pred_test)))\n",
    "    print('R2 Score: ', r2_score(y_test,pred_test))\n",
    "    print('\\n\\n')"
   ]
  },
  {
   "cell_type": "markdown",
   "id": "clinical-termination",
   "metadata": {},
   "source": [
    "### Cross Validation"
   ]
  },
  {
   "cell_type": "code",
   "execution_count": 164,
   "id": "historic-transsexual",
   "metadata": {},
   "outputs": [],
   "source": [
    "from sklearn.model_selection import cross_val_score"
   ]
  },
  {
   "cell_type": "code",
   "execution_count": 165,
   "id": "experimental-recording",
   "metadata": {},
   "outputs": [
    {
     "name": "stdout",
     "output_type": "stream",
     "text": [
      "LinearRegression()\n",
      "At cross fold 9 the cv score is 0.42918168872664614\n",
      "\n",
      "\n",
      "KNeighborsRegressor()\n",
      "At cross fold 9 the cv score is 0.6151631637752101\n",
      "\n",
      "\n",
      "DecisionTreeRegressor()\n",
      "At cross fold 5 the cv score is 0.6788628152991214\n",
      "\n",
      "\n",
      "SVR()\n",
      "At cross fold 9 the cv score is 0.0100619006502328\n",
      "\n",
      "\n",
      "RandomForestRegressor()\n",
      "At cross fold 5 the cv score is 0.7878621413417115\n",
      "\n",
      "\n",
      "Lasso()\n",
      "At cross fold 9 the cv score is 0.4291840553014699\n",
      "\n",
      "\n",
      "Ridge()\n",
      "At cross fold 9 the cv score is 0.4291821801471178\n",
      "\n",
      "\n",
      "ElasticNet()\n",
      "At cross fold 9 the cv score is 0.3602945320760261\n",
      "\n",
      "\n"
     ]
    }
   ],
   "source": [
    "model = [lr, knr, dtr, svr, rfr, ls, rd, eln]\n",
    "for m in model: \n",
    "    print (m)\n",
    "    i=[]\n",
    "    for j in range (2,10):\n",
    "        score = cross_val_score(m, x, y, cv = j)\n",
    "        cv_mean = score.mean()\n",
    "        i.append(cv_mean)\n",
    "        a = i.index(max(i))+2\n",
    "        b = max(i)\n",
    "    print(f'At cross fold {a} the cv score is {b}')\n",
    "    print('\\n')"
   ]
  },
  {
   "cell_type": "markdown",
   "id": "supposed-progressive",
   "metadata": {},
   "source": [
    "    I'll take Random Forest Regressor as my best model as the difference between R2 and CV is low, as well as the high value. "
   ]
  },
  {
   "cell_type": "markdown",
   "id": "amended-south",
   "metadata": {},
   "source": [
    "### Redoing the best model "
   ]
  },
  {
   "cell_type": "code",
   "execution_count": 166,
   "id": "conscious-farmer",
   "metadata": {},
   "outputs": [
    {
     "name": "stdout",
     "output_type": "stream",
     "text": [
      "Score:  0.9510544038782607\n",
      "Mean absolute error:  1190.4883435529716\n",
      "Mean squared error:  3602445.4392909496\n",
      "Root mean squared error:  1898.0109165362958\n",
      "R2 Score:  0.8210674581101398\n"
     ]
    }
   ],
   "source": [
    "rfr.fit(x_train, y_train)\n",
    "a = rfr.score(x_train, y_train)\n",
    "pred_test_rfr = rfr.predict(x_test)\n",
    "pred_train_rfr = rfr.predict(x_train)\n",
    "print('Score: ', a)\n",
    "print('Mean absolute error: ', mean_absolute_error(y_test,pred_test_rfr))\n",
    "print('Mean squared error: ', mean_squared_error(y_test,pred_test_rfr))\n",
    "print('Root mean squared error: ', np.sqrt(mean_squared_error(y_test,pred_test_rfr)))\n",
    "print('R2 Score: ', r2_score(y_test,pred_test_rfr))"
   ]
  },
  {
   "cell_type": "markdown",
   "id": "technical-probe",
   "metadata": {},
   "source": [
    "    We're getting 82% accuracy for this model. "
   ]
  },
  {
   "cell_type": "markdown",
   "id": "rapid-virtue",
   "metadata": {},
   "source": [
    "### GridSearch CV"
   ]
  },
  {
   "cell_type": "code",
   "execution_count": 167,
   "id": "blank-belle",
   "metadata": {},
   "outputs": [],
   "source": [
    "from sklearn.model_selection import GridSearchCV"
   ]
  },
  {
   "cell_type": "code",
   "execution_count": 168,
   "id": "synthetic-orleans",
   "metadata": {},
   "outputs": [
    {
     "name": "stdout",
     "output_type": "stream",
     "text": [
      "Fitting 5 folds for each of 54 candidates, totalling 270 fits\n",
      "{'criterion': 'mse', 'max_features': 'sqrt', 'min_samples_split': 8, 'n_estimators': 20}\n"
     ]
    }
   ],
   "source": [
    "parameters = {'criterion':['mse','mae'],'max_features':['log2','auto','sqrt'], 'n_estimators' : [10,20,30],'min_samples_split' : [2,4,8]}\n",
    "rfr = RandomForestRegressor()\n",
    "clf = GridSearchCV(rfr, parameters, cv = 5, n_jobs = -1, verbose = 2)\n",
    "clf.fit(x_train, y_train)\n",
    "\n",
    "print(clf.best_params_)"
   ]
  },
  {
   "cell_type": "code",
   "execution_count": 169,
   "id": "gothic-clothing",
   "metadata": {},
   "outputs": [
    {
     "data": {
      "text/plain": [
       "0.8194081590930415"
      ]
     },
     "execution_count": 169,
     "metadata": {},
     "output_type": "execute_result"
    }
   ],
   "source": [
    "rfr_final = RandomForestRegressor(criterion = 'mse', max_features = 'sqrt', min_samples_split = 4, n_estimators = 30)\n",
    "rfr_final.fit(x_train, y_train)\n",
    "rfr_final.score(x_train, y_train)\n",
    "pred_rfr_final = rfr_final.predict(x_test)\n",
    "\n",
    "rfrs = r2_score(y_test, pred_rfr_final)\n",
    "rfrs"
   ]
  },
  {
   "cell_type": "markdown",
   "id": "executed-greene",
   "metadata": {},
   "source": [
    "    We're getting a model with 82% accuracy"
   ]
  },
  {
   "cell_type": "markdown",
   "id": "following-classroom",
   "metadata": {},
   "source": [
    "### Plotting the model fit. "
   ]
  },
  {
   "cell_type": "code",
   "execution_count": 170,
   "id": "clear-jaguar",
   "metadata": {},
   "outputs": [
    {
     "data": {
      "image/png": "[encoded data removed]",
      "text/plain": [
       "<Figure size 576x432 with 1 Axes>"
      ]
     },
     "metadata": {
      "needs_background": "light"
     },
     "output_type": "display_data"
    }
   ],
   "source": [
    "plt.figure(figsize = (8,6))\n",
    "plt.scatter(x = y_test, y = pred_rfr_final, color = 'r')\n",
    "plt.plot(y_test, y_test, color = 'b')\n",
    "plt.xlabel('Actual: ', fontsize = 14)\n",
    "plt.ylabel('Predicted: ', fontsize = 14)\n",
    "plt.title('Random Forest Regressor Model', fontsize = 18)\n",
    "plt.show()"
   ]
  },
  {
   "cell_type": "code",
   "execution_count": 171,
   "id": "mathematical-fundamentals",
   "metadata": {},
   "outputs": [
    {
     "data": {
      "text/html": [
       "<div>\n",
       "<style scoped>\n",
       "    .dataframe tbody tr th:only-of-type {\n",
       "        vertical-align: middle;\n",
       "    }\n",
       "\n",
       "    .dataframe tbody tr th {\n",
       "        vertical-align: top;\n",
       "    }\n",
       "\n",
       "    .dataframe thead th {\n",
       "        text-align: right;\n",
       "    }\n",
       "</style>\n",
       "<table border=\"1\" class=\"dataframe\">\n",
       "  <thead>\n",
       "    <tr style=\"text-align: right;\">\n",
       "      <th></th>\n",
       "      <th>0</th>\n",
       "      <th>1</th>\n",
       "      <th>2</th>\n",
       "      <th>3</th>\n",
       "      <th>4</th>\n",
       "      <th>5</th>\n",
       "      <th>6</th>\n",
       "      <th>7</th>\n",
       "      <th>8</th>\n",
       "      <th>9</th>\n",
       "      <th>...</th>\n",
       "      <th>3195</th>\n",
       "      <th>3196</th>\n",
       "      <th>3197</th>\n",
       "      <th>3198</th>\n",
       "      <th>3199</th>\n",
       "      <th>3200</th>\n",
       "      <th>3201</th>\n",
       "      <th>3202</th>\n",
       "      <th>3203</th>\n",
       "      <th>3204</th>\n",
       "    </tr>\n",
       "  </thead>\n",
       "  <tbody>\n",
       "    <tr>\n",
       "      <th>Predicted</th>\n",
       "      <td>5695.724444</td>\n",
       "      <td>10905.1475</td>\n",
       "      <td>4305.02246</td>\n",
       "      <td>6841.146111</td>\n",
       "      <td>5402.389444</td>\n",
       "      <td>8992.888333</td>\n",
       "      <td>13800.466667</td>\n",
       "      <td>5180.344444</td>\n",
       "      <td>15673.950952</td>\n",
       "      <td>25472.556667</td>\n",
       "      <td>...</td>\n",
       "      <td>5222.658056</td>\n",
       "      <td>15158.96373</td>\n",
       "      <td>11835.536825</td>\n",
       "      <td>13288.397381</td>\n",
       "      <td>4132.12496</td>\n",
       "      <td>6221.225714</td>\n",
       "      <td>11914.706746</td>\n",
       "      <td>3766.722778</td>\n",
       "      <td>3586.186667</td>\n",
       "      <td>14149.893333</td>\n",
       "    </tr>\n",
       "    <tr>\n",
       "      <th>Actual</th>\n",
       "      <td>5601.000000</td>\n",
       "      <td>11200.0000</td>\n",
       "      <td>4226.00000</td>\n",
       "      <td>6628.000000</td>\n",
       "      <td>4651.000000</td>\n",
       "      <td>8025.000000</td>\n",
       "      <td>11087.000000</td>\n",
       "      <td>5277.000000</td>\n",
       "      <td>19644.000000</td>\n",
       "      <td>23170.000000</td>\n",
       "      <td>...</td>\n",
       "      <td>4647.000000</td>\n",
       "      <td>16863.00000</td>\n",
       "      <td>12534.000000</td>\n",
       "      <td>14300.000000</td>\n",
       "      <td>3898.00000</td>\n",
       "      <td>5170.000000</td>\n",
       "      <td>9663.000000</td>\n",
       "      <td>3543.000000</td>\n",
       "      <td>4319.000000</td>\n",
       "      <td>22096.000000</td>\n",
       "    </tr>\n",
       "  </tbody>\n",
       "</table>\n",
       "<p>2 rows × 3205 columns</p>\n",
       "</div>"
      ],
      "text/plain": [
       "                  0           1           2            3            4     \\\n",
       "Predicted  5695.724444  10905.1475  4305.02246  6841.146111  5402.389444   \n",
       "Actual     5601.000000  11200.0000  4226.00000  6628.000000  4651.000000   \n",
       "\n",
       "                  5             6            7             8             9     \\\n",
       "Predicted  8992.888333  13800.466667  5180.344444  15673.950952  25472.556667   \n",
       "Actual     8025.000000  11087.000000  5277.000000  19644.000000  23170.000000   \n",
       "\n",
       "           ...         3195         3196          3197          3198  \\\n",
       "Predicted  ...  5222.658056  15158.96373  11835.536825  13288.397381   \n",
       "Actual     ...  4647.000000  16863.00000  12534.000000  14300.000000   \n",
       "\n",
       "                 3199         3200          3201         3202         3203  \\\n",
       "Predicted  4132.12496  6221.225714  11914.706746  3766.722778  3586.186667   \n",
       "Actual     3898.00000  5170.000000   9663.000000  3543.000000  4319.000000   \n",
       "\n",
       "                   3204  \n",
       "Predicted  14149.893333  \n",
       "Actual     22096.000000  \n",
       "\n",
       "[2 rows x 3205 columns]"
      ]
     },
     "execution_count": 171,
     "metadata": {},
     "output_type": "execute_result"
    }
   ],
   "source": [
    "data = [pred_rfr_final, y_test]\n",
    "pd.DataFrame(data, index = ['Predicted', 'Actual'])"
   ]
  },
  {
   "cell_type": "code",
   "execution_count": 172,
   "id": "afraid-given",
   "metadata": {},
   "outputs": [
    {
     "name": "stdout",
     "output_type": "stream",
     "text": [
      "Errors:\n",
      "\n",
      "\n",
      "Mean absolute error:  1237.2281864874883\n",
      "Mean squared error:  3635852.0746264346\n",
      "Root mean squared error:  1906.7910411543355\n",
      "\n",
      "\n",
      "R2 Score:  0.8194081590930415\n"
     ]
    }
   ],
   "source": [
    "print('Errors:')\n",
    "print('\\n')\n",
    "print('Mean absolute error: ', mean_absolute_error(y_test,pred_rfr_final))\n",
    "print('Mean squared error: ', mean_squared_error(y_test,pred_rfr_final))\n",
    "print('Root mean squared error: ', np.sqrt(mean_squared_error(y_test,pred_rfr_final)))\n",
    "print('\\n')\n",
    "print('R2 Score: ', r2_score(y_test,pred_rfr_final))"
   ]
  },
  {
   "cell_type": "markdown",
   "id": "computational-corps",
   "metadata": {},
   "source": [
    "### Saving the model "
   ]
  },
  {
   "cell_type": "code",
   "execution_count": 173,
   "id": "played-belle",
   "metadata": {},
   "outputs": [
    {
     "data": {
      "text/plain": [
       "['Flight_Price_Prediction.obj']"
      ]
     },
     "execution_count": 173,
     "metadata": {},
     "output_type": "execute_result"
    }
   ],
   "source": [
    "import joblib\n",
    "joblib.dump(ls, 'Flight_Price_Prediction.obj')"
   ]
  },
  {
   "cell_type": "markdown",
   "id": "attempted-toronto",
   "metadata": {},
   "source": [
    "### Preparing the test file"
   ]
  },
  {
   "cell_type": "code",
   "execution_count": 174,
   "id": "consolidated-manual",
   "metadata": {},
   "outputs": [
    {
     "data": {
      "text/html": [
       "<div>\n",
       "<style scoped>\n",
       "    .dataframe tbody tr th:only-of-type {\n",
       "        vertical-align: middle;\n",
       "    }\n",
       "\n",
       "    .dataframe tbody tr th {\n",
       "        vertical-align: top;\n",
       "    }\n",
       "\n",
       "    .dataframe thead th {\n",
       "        text-align: right;\n",
       "    }\n",
       "</style>\n",
       "<table border=\"1\" class=\"dataframe\">\n",
       "  <thead>\n",
       "    <tr style=\"text-align: right;\">\n",
       "      <th></th>\n",
       "      <th>Airline</th>\n",
       "      <th>Date_of_Journey</th>\n",
       "      <th>Source</th>\n",
       "      <th>Destination</th>\n",
       "      <th>Route</th>\n",
       "      <th>Dep_Time</th>\n",
       "      <th>Arrival_Time</th>\n",
       "      <th>Duration</th>\n",
       "      <th>Total_Stops</th>\n",
       "      <th>Additional_Info</th>\n",
       "    </tr>\n",
       "  </thead>\n",
       "  <tbody>\n",
       "    <tr>\n",
       "      <th>0</th>\n",
       "      <td>Jet Airways</td>\n",
       "      <td>6/06/2019</td>\n",
       "      <td>Delhi</td>\n",
       "      <td>Cochin</td>\n",
       "      <td>DEL → BOM → COK</td>\n",
       "      <td>17:30</td>\n",
       "      <td>04:25 07 Jun</td>\n",
       "      <td>10h 55m</td>\n",
       "      <td>1 stop</td>\n",
       "      <td>No info</td>\n",
       "    </tr>\n",
       "    <tr>\n",
       "      <th>1</th>\n",
       "      <td>IndiGo</td>\n",
       "      <td>12/05/2019</td>\n",
       "      <td>Kolkata</td>\n",
       "      <td>Banglore</td>\n",
       "      <td>CCU → MAA → BLR</td>\n",
       "      <td>06:20</td>\n",
       "      <td>10:20</td>\n",
       "      <td>4h</td>\n",
       "      <td>1 stop</td>\n",
       "      <td>No info</td>\n",
       "    </tr>\n",
       "    <tr>\n",
       "      <th>2</th>\n",
       "      <td>Jet Airways</td>\n",
       "      <td>21/05/2019</td>\n",
       "      <td>Delhi</td>\n",
       "      <td>Cochin</td>\n",
       "      <td>DEL → BOM → COK</td>\n",
       "      <td>19:15</td>\n",
       "      <td>19:00 22 May</td>\n",
       "      <td>23h 45m</td>\n",
       "      <td>1 stop</td>\n",
       "      <td>In-flight meal not included</td>\n",
       "    </tr>\n",
       "    <tr>\n",
       "      <th>3</th>\n",
       "      <td>Multiple carriers</td>\n",
       "      <td>21/05/2019</td>\n",
       "      <td>Delhi</td>\n",
       "      <td>Cochin</td>\n",
       "      <td>DEL → BOM → COK</td>\n",
       "      <td>08:00</td>\n",
       "      <td>21:00</td>\n",
       "      <td>13h</td>\n",
       "      <td>1 stop</td>\n",
       "      <td>No info</td>\n",
       "    </tr>\n",
       "    <tr>\n",
       "      <th>4</th>\n",
       "      <td>Air Asia</td>\n",
       "      <td>24/06/2019</td>\n",
       "      <td>Banglore</td>\n",
       "      <td>Delhi</td>\n",
       "      <td>BLR → DEL</td>\n",
       "      <td>23:55</td>\n",
       "      <td>02:45 25 Jun</td>\n",
       "      <td>2h 50m</td>\n",
       "      <td>non-stop</td>\n",
       "      <td>No info</td>\n",
       "    </tr>\n",
       "  </tbody>\n",
       "</table>\n",
       "</div>"
      ],
      "text/plain": [
       "             Airline Date_of_Journey    Source Destination            Route  \\\n",
       "0        Jet Airways       6/06/2019     Delhi      Cochin  DEL → BOM → COK   \n",
       "1             IndiGo      12/05/2019   Kolkata    Banglore  CCU → MAA → BLR   \n",
       "2        Jet Airways      21/05/2019     Delhi      Cochin  DEL → BOM → COK   \n",
       "3  Multiple carriers      21/05/2019     Delhi      Cochin  DEL → BOM → COK   \n",
       "4           Air Asia      24/06/2019  Banglore       Delhi        BLR → DEL   \n",
       "\n",
       "  Dep_Time  Arrival_Time Duration Total_Stops              Additional_Info  \n",
       "0    17:30  04:25 07 Jun  10h 55m      1 stop                      No info  \n",
       "1    06:20         10:20       4h      1 stop                      No info  \n",
       "2    19:15  19:00 22 May  23h 45m      1 stop  In-flight meal not included  \n",
       "3    08:00         21:00      13h      1 stop                      No info  \n",
       "4    23:55  02:45 25 Jun   2h 50m    non-stop                      No info  "
      ]
     },
     "execution_count": 174,
     "metadata": {},
     "output_type": "execute_result"
    }
   ],
   "source": [
    "dft = pd.read_excel('Flight Ticket Price Prediction Test.xlsx')\n",
    "dft.head()"
   ]
  },
  {
   "cell_type": "code",
   "execution_count": 175,
   "id": "smoking-evolution",
   "metadata": {},
   "outputs": [],
   "source": [
    "dft['year'] = pd.DatetimeIndex(dft['Date_of_Journey']).year\n",
    "dft['month'] = pd.DatetimeIndex(dft['Date_of_Journey']).month\n",
    "dft['Day'] = pd.DatetimeIndex(dft['Date_of_Journey']).day"
   ]
  },
  {
   "cell_type": "code",
   "execution_count": 176,
   "id": "severe-detector",
   "metadata": {},
   "outputs": [
    {
     "data": {
      "text/html": [
       "<div>\n",
       "<style scoped>\n",
       "    .dataframe tbody tr th:only-of-type {\n",
       "        vertical-align: middle;\n",
       "    }\n",
       "\n",
       "    .dataframe tbody tr th {\n",
       "        vertical-align: top;\n",
       "    }\n",
       "\n",
       "    .dataframe thead th {\n",
       "        text-align: right;\n",
       "    }\n",
       "</style>\n",
       "<table border=\"1\" class=\"dataframe\">\n",
       "  <thead>\n",
       "    <tr style=\"text-align: right;\">\n",
       "      <th></th>\n",
       "      <th>Airline</th>\n",
       "      <th>Date_of_Journey</th>\n",
       "      <th>Source</th>\n",
       "      <th>Destination</th>\n",
       "      <th>Route</th>\n",
       "      <th>Dep_Time</th>\n",
       "      <th>Arrival_Time</th>\n",
       "      <th>Duration</th>\n",
       "      <th>Total_Stops</th>\n",
       "      <th>Additional_Info</th>\n",
       "      <th>year</th>\n",
       "      <th>month</th>\n",
       "      <th>Day</th>\n",
       "    </tr>\n",
       "  </thead>\n",
       "  <tbody>\n",
       "    <tr>\n",
       "      <th>0</th>\n",
       "      <td>Jet Airways</td>\n",
       "      <td>6/06/2019</td>\n",
       "      <td>Delhi</td>\n",
       "      <td>Cochin</td>\n",
       "      <td>DEL → BOM → COK</td>\n",
       "      <td>17:30</td>\n",
       "      <td>04:25 07 Jun</td>\n",
       "      <td>10h 55m</td>\n",
       "      <td>1 stop</td>\n",
       "      <td>No info</td>\n",
       "      <td>2019</td>\n",
       "      <td>6</td>\n",
       "      <td>6</td>\n",
       "    </tr>\n",
       "    <tr>\n",
       "      <th>1</th>\n",
       "      <td>IndiGo</td>\n",
       "      <td>12/05/2019</td>\n",
       "      <td>Kolkata</td>\n",
       "      <td>Banglore</td>\n",
       "      <td>CCU → MAA → BLR</td>\n",
       "      <td>06:20</td>\n",
       "      <td>10:20</td>\n",
       "      <td>4h</td>\n",
       "      <td>1 stop</td>\n",
       "      <td>No info</td>\n",
       "      <td>2019</td>\n",
       "      <td>12</td>\n",
       "      <td>5</td>\n",
       "    </tr>\n",
       "    <tr>\n",
       "      <th>2</th>\n",
       "      <td>Jet Airways</td>\n",
       "      <td>21/05/2019</td>\n",
       "      <td>Delhi</td>\n",
       "      <td>Cochin</td>\n",
       "      <td>DEL → BOM → COK</td>\n",
       "      <td>19:15</td>\n",
       "      <td>19:00 22 May</td>\n",
       "      <td>23h 45m</td>\n",
       "      <td>1 stop</td>\n",
       "      <td>In-flight meal not included</td>\n",
       "      <td>2019</td>\n",
       "      <td>5</td>\n",
       "      <td>21</td>\n",
       "    </tr>\n",
       "    <tr>\n",
       "      <th>3</th>\n",
       "      <td>Multiple carriers</td>\n",
       "      <td>21/05/2019</td>\n",
       "      <td>Delhi</td>\n",
       "      <td>Cochin</td>\n",
       "      <td>DEL → BOM → COK</td>\n",
       "      <td>08:00</td>\n",
       "      <td>21:00</td>\n",
       "      <td>13h</td>\n",
       "      <td>1 stop</td>\n",
       "      <td>No info</td>\n",
       "      <td>2019</td>\n",
       "      <td>5</td>\n",
       "      <td>21</td>\n",
       "    </tr>\n",
       "    <tr>\n",
       "      <th>4</th>\n",
       "      <td>Air Asia</td>\n",
       "      <td>24/06/2019</td>\n",
       "      <td>Banglore</td>\n",
       "      <td>Delhi</td>\n",
       "      <td>BLR → DEL</td>\n",
       "      <td>23:55</td>\n",
       "      <td>02:45 25 Jun</td>\n",
       "      <td>2h 50m</td>\n",
       "      <td>non-stop</td>\n",
       "      <td>No info</td>\n",
       "      <td>2019</td>\n",
       "      <td>6</td>\n",
       "      <td>24</td>\n",
       "    </tr>\n",
       "  </tbody>\n",
       "</table>\n",
       "</div>"
      ],
      "text/plain": [
       "             Airline Date_of_Journey    Source Destination            Route  \\\n",
       "0        Jet Airways       6/06/2019     Delhi      Cochin  DEL → BOM → COK   \n",
       "1             IndiGo      12/05/2019   Kolkata    Banglore  CCU → MAA → BLR   \n",
       "2        Jet Airways      21/05/2019     Delhi      Cochin  DEL → BOM → COK   \n",
       "3  Multiple carriers      21/05/2019     Delhi      Cochin  DEL → BOM → COK   \n",
       "4           Air Asia      24/06/2019  Banglore       Delhi        BLR → DEL   \n",
       "\n",
       "  Dep_Time  Arrival_Time Duration Total_Stops              Additional_Info  \\\n",
       "0    17:30  04:25 07 Jun  10h 55m      1 stop                      No info   \n",
       "1    06:20         10:20       4h      1 stop                      No info   \n",
       "2    19:15  19:00 22 May  23h 45m      1 stop  In-flight meal not included   \n",
       "3    08:00         21:00      13h      1 stop                      No info   \n",
       "4    23:55  02:45 25 Jun   2h 50m    non-stop                      No info   \n",
       "\n",
       "   year  month  Day  \n",
       "0  2019      6    6  \n",
       "1  2019     12    5  \n",
       "2  2019      5   21  \n",
       "3  2019      5   21  \n",
       "4  2019      6   24  "
      ]
     },
     "execution_count": 176,
     "metadata": {},
     "output_type": "execute_result"
    }
   ],
   "source": [
    "dft.head()"
   ]
  },
  {
   "cell_type": "code",
   "execution_count": 177,
   "id": "impaired-railway",
   "metadata": {},
   "outputs": [],
   "source": [
    "dft=dft.drop(columns='Date_of_Journey')"
   ]
  },
  {
   "cell_type": "code",
   "execution_count": 178,
   "id": "baking-collective",
   "metadata": {},
   "outputs": [],
   "source": [
    "dft['Total_Stops'] = dft['Total_Stops'].str.split().str[0]"
   ]
  },
  {
   "cell_type": "code",
   "execution_count": 179,
   "id": "growing-federation",
   "metadata": {},
   "outputs": [],
   "source": [
    "dft['Total_Stops'] = dft['Total_Stops'].replace(['non-stop'],0)"
   ]
  },
  {
   "cell_type": "code",
   "execution_count": 180,
   "id": "dutch-soviet",
   "metadata": {},
   "outputs": [],
   "source": [
    "dft[\"Departure hour\"]= pd.to_datetime(dft.Dep_Time).dt.hour\n",
    "dft[\"Departure minute\"]= pd.to_datetime(dft.Dep_Time).dt.minute\n",
    "dft[\"Arrival hour\"]= pd.to_datetime(dft.Arrival_Time).dt.hour\n",
    "dft[\"Arrival minute\"]= pd.to_datetime(dft.Arrival_Time).dt.minute\n",
    "dft=dft.drop(columns=\"Dep_Time\")\n",
    "dft=dft.drop(columns=\"Arrival_Time\")"
   ]
  },
  {
   "cell_type": "code",
   "execution_count": 181,
   "id": "legendary-tribune",
   "metadata": {},
   "outputs": [],
   "source": [
    "dft=dft.drop(columns='year')"
   ]
  },
  {
   "cell_type": "code",
   "execution_count": 182,
   "id": "vocational-registrar",
   "metadata": {},
   "outputs": [],
   "source": [
    "duration_test = list(dft['Duration'])"
   ]
  },
  {
   "cell_type": "code",
   "execution_count": 183,
   "id": "measured-combining",
   "metadata": {},
   "outputs": [],
   "source": [
    "for i in range(len(duration_test)):\n",
    "    if len(duration_test[i].split()) != 2:\n",
    "        if 'm' in duration_test[i]:\n",
    "            duration_test[i] = '0h' + duration_test[i]\n",
    "        else:\n",
    "            duration_test[i] = duration_test[i] + '0m'\n",
    "            \n",
    "    \n",
    "duration_hours_test = []\n",
    "duration_minutes_test = []\n",
    "\n",
    "for i in range(len(duration_test)):\n",
    "    duration_hours_test.append(int(duration_test[i].split(sep = 'h')[0]))\n",
    "    duration_minutes_test.append(int(duration_test[i].split(sep = 'h')[1].split('m')[0]))"
   ]
  },
  {
   "cell_type": "code",
   "execution_count": 184,
   "id": "eligible-richards",
   "metadata": {},
   "outputs": [],
   "source": [
    "dft['duration_hour'] = duration_hours_test\n",
    "dft['duration_minute'] = duration_minutes_test"
   ]
  },
  {
   "cell_type": "code",
   "execution_count": 185,
   "id": "baking-christopher",
   "metadata": {},
   "outputs": [],
   "source": [
    "dft=dft.drop(columns=['Route','Duration'])"
   ]
  },
  {
   "cell_type": "code",
   "execution_count": 186,
   "id": "continental-niger",
   "metadata": {},
   "outputs": [],
   "source": [
    "dft=dft.drop(columns='Additional_Info')"
   ]
  },
  {
   "cell_type": "code",
   "execution_count": 187,
   "id": "latin-veteran",
   "metadata": {},
   "outputs": [],
   "source": [
    "dft['Total_Stops']=dft['Total_Stops'].astype(int)"
   ]
  },
  {
   "cell_type": "code",
   "execution_count": 188,
   "id": "international-examination",
   "metadata": {},
   "outputs": [],
   "source": [
    "for i in dft.columns:\n",
    "    if dft[i].dtypes == 'object':\n",
    "        dft[i] = oe.fit_transform(dft[i].values.reshape(-1,1))"
   ]
  },
  {
   "cell_type": "markdown",
   "id": "likely-victoria",
   "metadata": {},
   "source": [
    "### Re-importing the model"
   ]
  },
  {
   "cell_type": "code",
   "execution_count": 189,
   "id": "cross-shoulder",
   "metadata": {},
   "outputs": [],
   "source": [
    "final = joblib.load('Flight_Price_Prediction.obj')"
   ]
  },
  {
   "cell_type": "code",
   "execution_count": 190,
   "id": "committed-finder",
   "metadata": {},
   "outputs": [],
   "source": [
    "final_test = final.predict(dft)"
   ]
  },
  {
   "cell_type": "code",
   "execution_count": 191,
   "id": "considered-respondent",
   "metadata": {},
   "outputs": [
    {
     "data": {
      "text/html": [
       "<div>\n",
       "<style scoped>\n",
       "    .dataframe tbody tr th:only-of-type {\n",
       "        vertical-align: middle;\n",
       "    }\n",
       "\n",
       "    .dataframe tbody tr th {\n",
       "        vertical-align: top;\n",
       "    }\n",
       "\n",
       "    .dataframe thead th {\n",
       "        text-align: right;\n",
       "    }\n",
       "</style>\n",
       "<table border=\"1\" class=\"dataframe\">\n",
       "  <thead>\n",
       "    <tr style=\"text-align: right;\">\n",
       "      <th></th>\n",
       "      <th>0</th>\n",
       "    </tr>\n",
       "  </thead>\n",
       "  <tbody>\n",
       "    <tr>\n",
       "      <th>0</th>\n",
       "      <td>10145.881133</td>\n",
       "    </tr>\n",
       "    <tr>\n",
       "      <th>1</th>\n",
       "      <td>8437.196880</td>\n",
       "    </tr>\n",
       "    <tr>\n",
       "      <th>2</th>\n",
       "      <td>10223.099846</td>\n",
       "    </tr>\n",
       "    <tr>\n",
       "      <th>3</th>\n",
       "      <td>9784.003950</td>\n",
       "    </tr>\n",
       "    <tr>\n",
       "      <th>4</th>\n",
       "      <td>4311.295754</td>\n",
       "    </tr>\n",
       "    <tr>\n",
       "      <th>...</th>\n",
       "      <td>...</td>\n",
       "    </tr>\n",
       "    <tr>\n",
       "      <th>2666</th>\n",
       "      <td>10070.885981</td>\n",
       "    </tr>\n",
       "    <tr>\n",
       "      <th>2667</th>\n",
       "      <td>3444.870991</td>\n",
       "    </tr>\n",
       "    <tr>\n",
       "      <th>2668</th>\n",
       "      <td>10306.520849</td>\n",
       "    </tr>\n",
       "    <tr>\n",
       "      <th>2669</th>\n",
       "      <td>10060.640171</td>\n",
       "    </tr>\n",
       "    <tr>\n",
       "      <th>2670</th>\n",
       "      <td>9626.804654</td>\n",
       "    </tr>\n",
       "  </tbody>\n",
       "</table>\n",
       "<p>2671 rows × 1 columns</p>\n",
       "</div>"
      ],
      "text/plain": [
       "                 0\n",
       "0     10145.881133\n",
       "1      8437.196880\n",
       "2     10223.099846\n",
       "3      9784.003950\n",
       "4      4311.295754\n",
       "...            ...\n",
       "2666  10070.885981\n",
       "2667   3444.870991\n",
       "2668  10306.520849\n",
       "2669  10060.640171\n",
       "2670   9626.804654\n",
       "\n",
       "[2671 rows x 1 columns]"
      ]
     },
     "execution_count": 191,
     "metadata": {},
     "output_type": "execute_result"
    }
   ],
   "source": [
    "pd.DataFrame(final_test)"
   ]
  },
  {
   "cell_type": "code",
   "execution_count": null,
   "id": "ultimate-indianapolis",
   "metadata": {},
   "outputs": [],
   "source": []
  }
 ],
 "metadata": {
  "kernelspec": {
   "display_name": "Python 3",
   "language": "python",
   "name": "python3"
  },
  "language_info": {
   "codemirror_mode": {
    "name": "ipython",
    "version": 3
   },
   "file_extension": ".py",
   "mimetype": "text/x-python",
   "name": "python",
   "nbconvert_exporter": "python",
   "pygments_lexer": "ipython3",
   "version": "3.8.8"
  }
 },
 "nbformat": 4,
 "nbformat_minor": 5
}
